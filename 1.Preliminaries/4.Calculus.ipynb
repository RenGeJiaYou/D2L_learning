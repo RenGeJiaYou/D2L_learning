{
 "cells": [
  {
   "cell_type": "code",
   "execution_count": 3,
   "metadata": {
    "collapsed": true,
    "ExecuteTime": {
     "start_time": "2023-04-22T18:43:05.053795Z",
     "end_time": "2023-04-22T18:43:05.193786Z"
    }
   },
   "outputs": [
    {
     "name": "stdout",
     "output_type": "stream",
     "text": [
      "h=0.1000000000, numerical limit=2.3000000000\n",
      "h=0.0100000000, numerical limit=2.0300000000\n",
      "h=0.0010000000, numerical limit=2.0030000000\n",
      "h=0.0001000000, numerical limit=2.0003000000\n",
      "h=0.0000100000, numerical limit=2.0000300000\n",
      "h=0.0000010000, numerical limit=2.0000030001\n",
      "h=0.0000001000, numerical limit=2.0000002987\n",
      "h=0.0000000100, numerical limit=1.9999999878\n",
      "h=0.0000000010, numerical limit=2.0000001655\n",
      "h=0.0000000001, numerical limit=2.0000001655\n"
     ]
    }
   ],
   "source": [
    "%matplotlib inline\n",
    "import numpy as np\n",
    "from matplotlib_inline import backend_inline\n",
    "import torch\n",
    "\n",
    "def f(x):\n",
    "    return 3 * x ** 2 - 4 * x\n",
    "\n",
    "def numerical_lim(f, x, h):\n",
    "    return (f(x + h) - f(x)) / h\n",
    "\n",
    "h = 0.1\n",
    "for i in range(10):\n",
    "    print(f'h={h:.10f}, numerical limit={numerical_lim(f, 1, h):.10f}')\n",
    "    h *= 0.1"
   ]
  },
  {
   "cell_type": "code",
   "execution_count": null,
   "outputs": [],
   "source": [],
   "metadata": {
    "collapsed": false
   }
  }
 ],
 "metadata": {
  "kernelspec": {
   "display_name": "Python 3",
   "language": "python",
   "name": "python3"
  },
  "language_info": {
   "codemirror_mode": {
    "name": "ipython",
    "version": 2
   },
   "file_extension": ".py",
   "mimetype": "text/x-python",
   "name": "python",
   "nbconvert_exporter": "python",
   "pygments_lexer": "ipython2",
   "version": "2.7.6"
  }
 },
 "nbformat": 4,
 "nbformat_minor": 0
}
