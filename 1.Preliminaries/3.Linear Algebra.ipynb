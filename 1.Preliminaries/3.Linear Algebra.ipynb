{
 "cells": [
  {
   "cell_type": "markdown",
   "source": [
    "## 一、Scalar,Vector,Matrix,Tensor"
   ],
   "metadata": {
    "collapsed": false
   }
  },
  {
   "cell_type": "code",
   "execution_count": 48,
   "outputs": [
    {
     "data": {
      "text/plain": "10"
     },
     "execution_count": 48,
     "metadata": {},
     "output_type": "execute_result"
    }
   ],
   "source": [
    "import torch\n",
    "# 1. 标量 Scalar\n",
    "x = torch.tensor(3.0)\n",
    "y = torch.tensor(2.0)\n",
    "x + y, x * y, x / y, x**y\n",
    "\n",
    "\n",
    "# 2. 向量 Vector\n",
    "v = torch.arange(10)\n",
    "len(v),v.shape\n",
    "\n",
    "# 3. 矩阵 Matrix\n",
    "m = torch.arange(16).reshape(-1,4)\n",
    "m[2,3]\n",
    "\n",
    "# 转置\n",
    "m.T\n",
    "\n",
    "m == m.T\n",
    "\n",
    "# 4.张量 Tensor\n",
    "t = torch.arange(60).reshape(3,4,-1)\n",
    "len(v)      # len() 返回的总是第一维的长度"
   ],
   "metadata": {
    "collapsed": false,
    "ExecuteTime": {
     "start_time": "2023-04-22T18:33:59.593057Z",
     "end_time": "2023-04-22T18:33:59.777055Z"
    }
   }
  },
  {
   "cell_type": "markdown",
   "source": [
    "## 二、Tensor 算法的基本性质"
   ],
   "metadata": {
    "collapsed": false
   }
  },
  {
   "cell_type": "code",
   "execution_count": null,
   "outputs": [],
   "source": [
    "# clone() 完全复制\n",
    "t_cp = t.clone()\n",
    "t_cp[0,0,0]=999\n",
    "t_cp,t\n",
    "\n",
    "# *乘,对位元素相乘\n",
    "t*t_cp\n"
   ],
   "metadata": {
    "collapsed": false,
    "ExecuteTime": {
     "start_time": "2023-04-20T22:06:52.415933Z",
     "end_time": "2023-04-20T22:06:52.464935Z"
    }
   }
  },
  {
   "cell_type": "markdown",
   "source": [
    "## 三、降维"
   ],
   "metadata": {
    "collapsed": false
   }
  },
  {
   "cell_type": "code",
   "execution_count": null,
   "outputs": [],
   "source": [
    "# 可求任意多维度的 Tensor 和\n",
    "t,t.sum()\n",
    "\n",
    "# 也可指定待降低的维度\n",
    "t,t.sum(axis=0),t.sum(axis=1),t.sum(axis=2),t.sum([0,1])\n",
    "\n",
    "# mean()、sum() / numel()\n",
    "t.type(torch.float).mean()  # 注意类型转换 .type(torch.float)\n",
    "t.sum() / t.numel()\n",
    "\n",
    "# 亦可指定维度求 mean()\n",
    "t.type(torch.float).mean(axis=0)  # 结果 tensor:[4,5]"
   ],
   "metadata": {
    "collapsed": false,
    "ExecuteTime": {
     "start_time": "2023-04-20T22:10:24.598750Z",
     "end_time": "2023-04-20T22:10:24.676789Z"
    }
   }
  },
  {
   "cell_type": "markdown",
   "source": [
    "## 四、非降维求和"
   ],
   "metadata": {
    "collapsed": false
   }
  },
  {
   "cell_type": "code",
   "execution_count": 25,
   "outputs": [
    {
     "ename": "RuntimeError",
     "evalue": "The size of tensor a (4) must match the size of tensor b (5) at non-singleton dimension 1",
     "output_type": "error",
     "traceback": [
      "\u001B[1;31m---------------------------------------------------------------------------\u001B[0m",
      "\u001B[1;31mRuntimeError\u001B[0m                              Traceback (most recent call last)",
      "Input \u001B[1;32mIn [25]\u001B[0m, in \u001B[0;36m<cell line: 11>\u001B[1;34m()\u001B[0m\n\u001B[0;32m      8\u001B[0m A\u001B[38;5;241m/\u001B[39ma2\n\u001B[0;32m     10\u001B[0m \u001B[38;5;66;03m# 报错 The size of tensor a (5) must match the size of tensor b (4) at non-singleton dimension\u001B[39;00m\n\u001B[1;32m---> 11\u001B[0m \u001B[43mA\u001B[49m\u001B[38;5;241;43m/\u001B[39;49m\u001B[43ma1\u001B[49m\n",
      "\u001B[1;31mRuntimeError\u001B[0m: The size of tensor a (4) must match the size of tensor b (5) at non-singleton dimension 1"
     ]
    }
   ],
   "source": [
    "A = torch.arange(20).reshape(5,4)\n",
    "a1 = A.sum(axis =1)\n",
    "a2 =A.sum(axis=1,keepdims = True)   # 保持原有的维度\n",
    "a3 =A.sum(axis=0,keepdims = True)   # 保持原有的维度\n",
    "A,a1,a2,a3\n",
    "\n",
    "# 由于 a2,a3 在对每行进行求和后仍保持两个轴，我们可以通过广播运算\n",
    "A/a2\n",
    "\n",
    "# 报错 The size of tensor a (5) must match the size of tensor b (4) at non-singleton dimension\n",
    "A/a1"
   ],
   "metadata": {
    "collapsed": false,
    "ExecuteTime": {
     "start_time": "2023-04-22T16:46:19.582728Z",
     "end_time": "2023-04-22T16:46:19.700735Z"
    }
   }
  },
  {
   "cell_type": "markdown",
   "source": [
    "## 五、点积、矩阵-向量积、矩阵-矩阵乘法\n",
    "torch.dot() / torch.mv() / torch.mm()"
   ],
   "metadata": {
    "collapsed": false
   }
  },
  {
   "cell_type": "code",
   "execution_count": 34,
   "outputs": [
    {
     "data": {
      "text/plain": "tensor([[ 6,  6,  6],\n        [22, 22, 22],\n        [38, 38, 38],\n        [54, 54, 54],\n        [70, 70, 70]])"
     },
     "execution_count": 34,
     "metadata": {},
     "output_type": "execute_result"
    }
   ],
   "source": [
    "# 1.点积\n",
    "x = torch.tensor([0,1,2,3],dtype = torch.float32)\n",
    "y = torch.ones(4,dtype = torch.float32)\n",
    "\n",
    "x,y,torch.dot(x,y)\n",
    "\n",
    "# 2.矩阵-向量积\n",
    "x = torch.tensor([0,1,2,3],dtype = torch.long)\n",
    "torch.mv(A,x)       # [5,4] * [4,1] -> [5,1]\n",
    "\n",
    "# 3.矩阵相乘\n",
    "B = torch.ones(4,3,dtype=torch.long)\n",
    "torch.mm(A,B)       # [5,4] * [4,3] -> [5,3]"
   ],
   "metadata": {
    "collapsed": false,
    "ExecuteTime": {
     "start_time": "2023-04-22T17:41:10.401265Z",
     "end_time": "2023-04-22T17:41:10.840258Z"
    }
   }
  },
  {
   "cell_type": "markdown",
   "source": [
    "## 六、范数 Norms\n",
    "范数表示矩阵和向量的长度，是模长的一种推广。\n",
    "举例，向量[3,4,5] 的模长为 sqrt(3^2+5^2+5^2)，即L2 范数\n",
    "Lp 范数为 3**p+5**p+5**p 之和开 p 次方。特别地，矩阵的 L1 范数是各组成向量长度之和 |x1| + |x2| + |x3|+...\n",
    "\n",
    "范数满足以下三条性质\n",
    "（1）.f(x) > 0\n",
    "（2）.f(αx) = |α|f(x)     α 是一个常数\n",
    "（3）.f(x + y) <= f(x) + f(y)\n",
    "\n",
    "当求解矩阵 m[n][n] 的L2范数时，实质上是求 sqrt(m[1][1]^2 + ... + m[n][n]^2)"
   ],
   "metadata": {
    "collapsed": false
   }
  },
  {
   "cell_type": "code",
   "execution_count": 36,
   "outputs": [
    {
     "data": {
      "text/plain": "tensor(5.)"
     },
     "execution_count": 36,
     "metadata": {},
     "output_type": "execute_result"
    }
   ],
   "source": [
    "u = torch.tensor([-3.0,4.0])\n",
    "torch.norm(u)   # 默认是 L2"
   ],
   "metadata": {
    "collapsed": false,
    "ExecuteTime": {
     "start_time": "2023-04-22T18:14:56.459047Z",
     "end_time": "2023-04-22T18:14:56.713040Z"
    }
   }
  },
  {
   "cell_type": "code",
   "execution_count": 37,
   "outputs": [
    {
     "data": {
      "text/plain": "tensor([[1., 1., 1.],\n        [1., 1., 1.],\n        [1., 1., 1.]])"
     },
     "execution_count": 37,
     "metadata": {},
     "output_type": "execute_result"
    }
   ],
   "source": [
    "u1 = torch.ones([3,3])\n",
    "u1"
   ],
   "metadata": {
    "collapsed": false,
    "ExecuteTime": {
     "start_time": "2023-04-22T18:15:37.396667Z",
     "end_time": "2023-04-22T18:15:37.549664Z"
    }
   }
  },
  {
   "cell_type": "code",
   "execution_count": 38,
   "outputs": [
    {
     "data": {
      "text/plain": "tensor(3.)"
     },
     "execution_count": 38,
     "metadata": {},
     "output_type": "execute_result"
    }
   ],
   "source": [
    "torch.norm(u1)\n",
    "\"\"\"\n",
    "[1,1,1] 的模长是根号3\n",
    "sqrt(根号3^2 + 根号3^2 + 根号3^2) = sqrt(9) = 3\n",
    "\"\"\""
   ],
   "metadata": {
    "collapsed": false,
    "ExecuteTime": {
     "start_time": "2023-04-22T18:15:54.068071Z",
     "end_time": "2023-04-22T18:15:54.244073Z"
    }
   }
  },
  {
   "cell_type": "code",
   "execution_count": 44,
   "outputs": [
    {
     "data": {
      "text/plain": "tensor(6.)"
     },
     "execution_count": 44,
     "metadata": {},
     "output_type": "execute_result"
    }
   ],
   "source": [
    "u2 = torch.tensor([[1,2,3],[1,2,3],[2,2,0]],dtype=torch.float)\n",
    "torch.norm(u2)      # sqrt(14 + 14 + 8)\n"
   ],
   "metadata": {
    "collapsed": false,
    "ExecuteTime": {
     "start_time": "2023-04-22T18:21:52.193279Z",
     "end_time": "2023-04-22T18:21:52.316324Z"
    }
   }
  },
  {
   "cell_type": "code",
   "execution_count": null,
   "outputs": [],
   "source": [],
   "metadata": {
    "collapsed": false
   }
  }
 ],
 "metadata": {
  "kernelspec": {
   "display_name": "Python 3",
   "language": "python",
   "name": "python3"
  },
  "language_info": {
   "codemirror_mode": {
    "name": "ipython",
    "version": 2
   },
   "file_extension": ".py",
   "mimetype": "text/x-python",
   "name": "python",
   "nbconvert_exporter": "python",
   "pygments_lexer": "ipython2",
   "version": "2.7.6"
  }
 },
 "nbformat": 4,
 "nbformat_minor": 0
}
