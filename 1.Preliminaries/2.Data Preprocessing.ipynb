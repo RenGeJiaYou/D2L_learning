{
 "cells": [
  {
   "cell_type": "markdown",
   "source": [
    "## 二、数据预处理"
   ],
   "metadata": {
    "collapsed": false
   }
  },
  {
   "cell_type": "markdown",
   "source": [
    "1. 读取数据集"
   ],
   "metadata": {
    "collapsed": false
   }
  },
  {
   "cell_type": "code",
   "execution_count": 1,
   "outputs": [
    {
     "data": {
      "text/plain": "['1.Data Manipulation.ipynb',\n '2.Data Preprocessing.ipynb',\n 'data.csv',\n 'readme.md']"
     },
     "execution_count": 1,
     "metadata": {},
     "output_type": "execute_result"
    }
   ],
   "source": [
    "import os\n",
    "\n",
    "import torch\n",
    "\n",
    "os.listdir(\".\")"
   ],
   "metadata": {
    "collapsed": false,
    "ExecuteTime": {
     "start_time": "2023-04-20T15:26:23.521618Z",
     "end_time": "2023-04-20T15:26:51.257626Z"
    }
   }
  },
  {
   "cell_type": "code",
   "execution_count": 2,
   "metadata": {
    "collapsed": true,
    "ExecuteTime": {
     "start_time": "2023-04-20T15:26:55.756681Z",
     "end_time": "2023-04-20T15:26:55.860678Z"
    }
   },
   "outputs": [],
   "source": [
    "# os 包的常用函数见  https://zhuanlan.zhihu.com/p/150835193\n",
    "os.makedirs(os.path.join(\"..\", \"data\"), exist_ok=True)\n",
    "data_file = os.path.join(\"..\", \"data\", \"house_csv\")\n",
    "\n",
    "# \"with open() as f\" 是语法糖，省略 try...finally 块和 f.close() 语句\n",
    "with open(data_file, 'w') as f:\n",
    "    f.write('''NumRooms,RoofType,Price\n",
    "NA,NA,127500\n",
    "2,NA,106000\n",
    "4,Slate,178100\n",
    "NA,NA,140000''')"
   ]
  },
  {
   "cell_type": "code",
   "execution_count": 3,
   "outputs": [
    {
     "name": "stdout",
     "output_type": "stream",
     "text": [
      "   NumRooms RoofType   Price\n",
      "0       NaN      NaN  127500\n",
      "1       2.0      NaN  106000\n",
      "2       4.0    Slate  178100\n",
      "3       NaN      NaN  140000\n"
     ]
    }
   ],
   "source": [
    "import pandas as pd\n",
    "\n",
    "data = pd.read_csv(data_file)\n",
    "\n",
    "print(data)"
   ],
   "metadata": {
    "collapsed": false,
    "ExecuteTime": {
     "start_time": "2023-04-20T15:26:58.105189Z",
     "end_time": "2023-04-20T15:27:03.602883Z"
    }
   }
  },
  {
   "cell_type": "markdown",
   "source": [
    "2. 缺失值处理\n",
    "   要么插入一个替代值，要么直接删除该项"
   ],
   "metadata": {
    "collapsed": false
   }
  },
  {
   "cell_type": "code",
   "execution_count": 9,
   "outputs": [
    {
     "name": "stdout",
     "output_type": "stream",
     "text": [
      "   NumRooms  RoofType_Slate  RoofType_nan\n",
      "0       NaN           False          True\n",
      "1       2.0           False          True\n",
      "2       4.0            True         False\n",
      "3       NaN           False          True\n"
     ]
    }
   ],
   "source": [
    "inputs, targets = data.iloc[:, 0:2], data.iloc[:, 2]\n",
    "inputs = pd.get_dummies(inputs, dummy_na=True)\n",
    "print(inputs)"
   ],
   "metadata": {
    "collapsed": false,
    "ExecuteTime": {
     "start_time": "2023-04-20T15:37:28.959823Z",
     "end_time": "2023-04-20T15:37:29.040815Z"
    }
   }
  },
  {
   "cell_type": "code",
   "execution_count": 12,
   "outputs": [
    {
     "name": "stdout",
     "output_type": "stream",
     "text": [
      "   NumRooms  RoofType_Slate  RoofType_nan\n",
      "0         3               0             1\n",
      "1         2               0             1\n",
      "2         4               1             0\n",
      "3         3               0             1\n"
     ]
    }
   ],
   "source": [
    "inputs = inputs.fillna(inputs.mean())\n",
    "inputs = inputs.astype(int)  # astype(int) 将True / False -> 1 / 0\n",
    "print(inputs)"
   ],
   "metadata": {
    "collapsed": false,
    "ExecuteTime": {
     "start_time": "2023-04-20T15:38:32.486780Z",
     "end_time": "2023-04-20T15:38:32.888625Z"
    }
   }
  },
  {
   "cell_type": "markdown",
   "source": [
    "3. 转换为`Tensor`格式"
   ],
   "metadata": {
    "collapsed": false
   }
  },
  {
   "cell_type": "code",
   "execution_count": 13,
   "outputs": [
    {
     "data": {
      "text/plain": "(tensor([[3, 0, 1],\n         [2, 0, 1],\n         [4, 1, 0],\n         [3, 0, 1]], dtype=torch.int32),\n tensor([127500, 106000, 178100, 140000]))"
     },
     "execution_count": 13,
     "metadata": {},
     "output_type": "execute_result"
    }
   ],
   "source": [
    "X, y = torch.tensor(inputs.values), torch.tensor(targets.values)\n",
    "X, y"
   ],
   "metadata": {
    "collapsed": false,
    "ExecuteTime": {
     "start_time": "2023-04-20T15:43:16.861008Z",
     "end_time": "2023-04-20T15:43:16.981017Z"
    }
   }
  },
  {
   "cell_type": "markdown",
   "source": [
    "---\n"
   ],
   "metadata": {
    "collapsed": false
   }
  },
  {
   "cell_type": "markdown",
   "source": [
    "## 练习\n",
    "创建包含更多行和列的原始数据集。\n",
    "    1. 删除缺失值最多的列。\n",
    "    2. 将预处理后的数据集转换为张量格式。"
   ],
   "metadata": {
    "collapsed": false
   }
  },
  {
   "cell_type": "code",
   "execution_count": 22,
   "outputs": [
    {
     "data": {
      "text/plain": "         1        date   open   high    low  close      volume Name\n0        2         NaN  15.07  15.12  14.63  14.75         NaN  AAL\n1        3  2013-02-11  14.89  15.01  14.26  14.46   8882000.0  AAL\n2        4  2013-02-12  14.45  14.51  14.10  14.27   8126000.0  AAL\n3        5  2013-02-13  14.30  14.94  14.25  14.66  10259500.0  AAL\n4        6  2013-02-14  14.94  14.96  13.16  13.99         NaN  AAL\n5        7  2013-02-15  13.93  14.61  13.93  14.50  15628000.0  AAL\n6        8  2013-02-19  14.33  14.56  14.08  14.26         NaN  AAL\n7        9  2013-02-20  14.17  14.26  13.15  13.33  14725200.0  AAL\n8       10  2013-02-21  13.62  13.95  12.90  13.37         NaN  AAL\n9       11  2013-02-22  13.57  13.60  13.21  13.57   6071400.0  AAL\n10      12  2013-02-25  13.60  13.76  13.00  13.02   7186400.0  AAL\n11      13  2013-02-26  13.14  13.42  12.70  13.26         NaN  AAL\n12      14  2013-02-27  13.28  13.62  13.18  13.41   7390500.0  AAL\n13      15  2013-02-28  13.49  13.63  13.39    NaN         NaN  AAL\n14      16  2013-03-01  13.37  13.95  13.32  13.61   7376800.0  AAL\n15      17  2013-03-04  13.50  14.07    NaN  13.90   8174800.0  AAL\n16      18  2013-03-05  14.01  14.05    NaN  14.05         NaN  AAL\n17      19  2013-03-06  14.52  14.68  14.25  14.57  13243200.0  AAL\n18      20  2013-03-07  14.70  14.93  14.50  14.82   9125300.0  AAL\n19      21  2013-03-08  14.99  15.20  14.84  14.92         NaN  AAL\n20      22  2013-03-11  14.85    NaN  14.71  15.13   6961800.0  AAL\n21      23  2013-03-12  15.14  15.60  14.95  15.50   8999100.0  AAL\n22      24  2013-03-13  15.54    NaN  15.48  15.91         NaN  AAL\n23      25  2013-03-14  15.98  16.36  15.93  16.25   8383300.0  AAL\n24      26  2013-03-15  16.45    NaN  15.88  15.98  17667700.0  AAL\n25      27  2013-03-18  15.80  16.33  15.71  16.29         NaN  AAL\n26      28  2013-03-19  16.48  16.85  16.41  16.78  11805300.0  AAL\n27      29  2013-03-20  17.13  17.33  16.87  17.23  10819800.0  AAL\n28      30  2013-03-21  17.21  17.43  16.87  17.00  10740800.0  AAL\n29      31  2013-03-22  17.10  17.29  16.77  16.86   8545200.0  AAL\n30      32  2013-03-25  16.92  17.00  16.35  16.60   8400000.0  AAL\n31      33  2013-03-26  16.67  16.84  16.50  16.51   6898500.0  AAL\n32      34  2013-03-27  16.48  16.77  16.33  16.65   5537100.0  AAL\n33      35  2013-03-28  17.00  17.09  16.82  16.97   8324100.0  AAL\n34      36  2013-04-01  17.02  17.13  16.54  16.67   5222300.0  AAL\n35      37  2013-04-02  16.48  16.50  15.71  15.74  14595600.0  AAL\n36      38  2013-04-03  15.82  15.92  15.13  15.53  14658300.0  AAL\n37      39  2013-04-04  15.12  15.71  15.12  15.69   5520300.0  AAL\n38      40  2013-04-05  15.17  15.79  15.03  15.72   5252300.0  AAL",
      "text/html": "<div>\n<style scoped>\n    .dataframe tbody tr th:only-of-type {\n        vertical-align: middle;\n    }\n\n    .dataframe tbody tr th {\n        vertical-align: top;\n    }\n\n    .dataframe thead th {\n        text-align: right;\n    }\n</style>\n<table border=\"1\" class=\"dataframe\">\n  <thead>\n    <tr style=\"text-align: right;\">\n      <th></th>\n      <th>1</th>\n      <th>date</th>\n      <th>open</th>\n      <th>high</th>\n      <th>low</th>\n      <th>close</th>\n      <th>volume</th>\n      <th>Name</th>\n    </tr>\n  </thead>\n  <tbody>\n    <tr>\n      <th>0</th>\n      <td>2</td>\n      <td>NaN</td>\n      <td>15.07</td>\n      <td>15.12</td>\n      <td>14.63</td>\n      <td>14.75</td>\n      <td>NaN</td>\n      <td>AAL</td>\n    </tr>\n    <tr>\n      <th>1</th>\n      <td>3</td>\n      <td>2013-02-11</td>\n      <td>14.89</td>\n      <td>15.01</td>\n      <td>14.26</td>\n      <td>14.46</td>\n      <td>8882000.0</td>\n      <td>AAL</td>\n    </tr>\n    <tr>\n      <th>2</th>\n      <td>4</td>\n      <td>2013-02-12</td>\n      <td>14.45</td>\n      <td>14.51</td>\n      <td>14.10</td>\n      <td>14.27</td>\n      <td>8126000.0</td>\n      <td>AAL</td>\n    </tr>\n    <tr>\n      <th>3</th>\n      <td>5</td>\n      <td>2013-02-13</td>\n      <td>14.30</td>\n      <td>14.94</td>\n      <td>14.25</td>\n      <td>14.66</td>\n      <td>10259500.0</td>\n      <td>AAL</td>\n    </tr>\n    <tr>\n      <th>4</th>\n      <td>6</td>\n      <td>2013-02-14</td>\n      <td>14.94</td>\n      <td>14.96</td>\n      <td>13.16</td>\n      <td>13.99</td>\n      <td>NaN</td>\n      <td>AAL</td>\n    </tr>\n    <tr>\n      <th>5</th>\n      <td>7</td>\n      <td>2013-02-15</td>\n      <td>13.93</td>\n      <td>14.61</td>\n      <td>13.93</td>\n      <td>14.50</td>\n      <td>15628000.0</td>\n      <td>AAL</td>\n    </tr>\n    <tr>\n      <th>6</th>\n      <td>8</td>\n      <td>2013-02-19</td>\n      <td>14.33</td>\n      <td>14.56</td>\n      <td>14.08</td>\n      <td>14.26</td>\n      <td>NaN</td>\n      <td>AAL</td>\n    </tr>\n    <tr>\n      <th>7</th>\n      <td>9</td>\n      <td>2013-02-20</td>\n      <td>14.17</td>\n      <td>14.26</td>\n      <td>13.15</td>\n      <td>13.33</td>\n      <td>14725200.0</td>\n      <td>AAL</td>\n    </tr>\n    <tr>\n      <th>8</th>\n      <td>10</td>\n      <td>2013-02-21</td>\n      <td>13.62</td>\n      <td>13.95</td>\n      <td>12.90</td>\n      <td>13.37</td>\n      <td>NaN</td>\n      <td>AAL</td>\n    </tr>\n    <tr>\n      <th>9</th>\n      <td>11</td>\n      <td>2013-02-22</td>\n      <td>13.57</td>\n      <td>13.60</td>\n      <td>13.21</td>\n      <td>13.57</td>\n      <td>6071400.0</td>\n      <td>AAL</td>\n    </tr>\n    <tr>\n      <th>10</th>\n      <td>12</td>\n      <td>2013-02-25</td>\n      <td>13.60</td>\n      <td>13.76</td>\n      <td>13.00</td>\n      <td>13.02</td>\n      <td>7186400.0</td>\n      <td>AAL</td>\n    </tr>\n    <tr>\n      <th>11</th>\n      <td>13</td>\n      <td>2013-02-26</td>\n      <td>13.14</td>\n      <td>13.42</td>\n      <td>12.70</td>\n      <td>13.26</td>\n      <td>NaN</td>\n      <td>AAL</td>\n    </tr>\n    <tr>\n      <th>12</th>\n      <td>14</td>\n      <td>2013-02-27</td>\n      <td>13.28</td>\n      <td>13.62</td>\n      <td>13.18</td>\n      <td>13.41</td>\n      <td>7390500.0</td>\n      <td>AAL</td>\n    </tr>\n    <tr>\n      <th>13</th>\n      <td>15</td>\n      <td>2013-02-28</td>\n      <td>13.49</td>\n      <td>13.63</td>\n      <td>13.39</td>\n      <td>NaN</td>\n      <td>NaN</td>\n      <td>AAL</td>\n    </tr>\n    <tr>\n      <th>14</th>\n      <td>16</td>\n      <td>2013-03-01</td>\n      <td>13.37</td>\n      <td>13.95</td>\n      <td>13.32</td>\n      <td>13.61</td>\n      <td>7376800.0</td>\n      <td>AAL</td>\n    </tr>\n    <tr>\n      <th>15</th>\n      <td>17</td>\n      <td>2013-03-04</td>\n      <td>13.50</td>\n      <td>14.07</td>\n      <td>NaN</td>\n      <td>13.90</td>\n      <td>8174800.0</td>\n      <td>AAL</td>\n    </tr>\n    <tr>\n      <th>16</th>\n      <td>18</td>\n      <td>2013-03-05</td>\n      <td>14.01</td>\n      <td>14.05</td>\n      <td>NaN</td>\n      <td>14.05</td>\n      <td>NaN</td>\n      <td>AAL</td>\n    </tr>\n    <tr>\n      <th>17</th>\n      <td>19</td>\n      <td>2013-03-06</td>\n      <td>14.52</td>\n      <td>14.68</td>\n      <td>14.25</td>\n      <td>14.57</td>\n      <td>13243200.0</td>\n      <td>AAL</td>\n    </tr>\n    <tr>\n      <th>18</th>\n      <td>20</td>\n      <td>2013-03-07</td>\n      <td>14.70</td>\n      <td>14.93</td>\n      <td>14.50</td>\n      <td>14.82</td>\n      <td>9125300.0</td>\n      <td>AAL</td>\n    </tr>\n    <tr>\n      <th>19</th>\n      <td>21</td>\n      <td>2013-03-08</td>\n      <td>14.99</td>\n      <td>15.20</td>\n      <td>14.84</td>\n      <td>14.92</td>\n      <td>NaN</td>\n      <td>AAL</td>\n    </tr>\n    <tr>\n      <th>20</th>\n      <td>22</td>\n      <td>2013-03-11</td>\n      <td>14.85</td>\n      <td>NaN</td>\n      <td>14.71</td>\n      <td>15.13</td>\n      <td>6961800.0</td>\n      <td>AAL</td>\n    </tr>\n    <tr>\n      <th>21</th>\n      <td>23</td>\n      <td>2013-03-12</td>\n      <td>15.14</td>\n      <td>15.60</td>\n      <td>14.95</td>\n      <td>15.50</td>\n      <td>8999100.0</td>\n      <td>AAL</td>\n    </tr>\n    <tr>\n      <th>22</th>\n      <td>24</td>\n      <td>2013-03-13</td>\n      <td>15.54</td>\n      <td>NaN</td>\n      <td>15.48</td>\n      <td>15.91</td>\n      <td>NaN</td>\n      <td>AAL</td>\n    </tr>\n    <tr>\n      <th>23</th>\n      <td>25</td>\n      <td>2013-03-14</td>\n      <td>15.98</td>\n      <td>16.36</td>\n      <td>15.93</td>\n      <td>16.25</td>\n      <td>8383300.0</td>\n      <td>AAL</td>\n    </tr>\n    <tr>\n      <th>24</th>\n      <td>26</td>\n      <td>2013-03-15</td>\n      <td>16.45</td>\n      <td>NaN</td>\n      <td>15.88</td>\n      <td>15.98</td>\n      <td>17667700.0</td>\n      <td>AAL</td>\n    </tr>\n    <tr>\n      <th>25</th>\n      <td>27</td>\n      <td>2013-03-18</td>\n      <td>15.80</td>\n      <td>16.33</td>\n      <td>15.71</td>\n      <td>16.29</td>\n      <td>NaN</td>\n      <td>AAL</td>\n    </tr>\n    <tr>\n      <th>26</th>\n      <td>28</td>\n      <td>2013-03-19</td>\n      <td>16.48</td>\n      <td>16.85</td>\n      <td>16.41</td>\n      <td>16.78</td>\n      <td>11805300.0</td>\n      <td>AAL</td>\n    </tr>\n    <tr>\n      <th>27</th>\n      <td>29</td>\n      <td>2013-03-20</td>\n      <td>17.13</td>\n      <td>17.33</td>\n      <td>16.87</td>\n      <td>17.23</td>\n      <td>10819800.0</td>\n      <td>AAL</td>\n    </tr>\n    <tr>\n      <th>28</th>\n      <td>30</td>\n      <td>2013-03-21</td>\n      <td>17.21</td>\n      <td>17.43</td>\n      <td>16.87</td>\n      <td>17.00</td>\n      <td>10740800.0</td>\n      <td>AAL</td>\n    </tr>\n    <tr>\n      <th>29</th>\n      <td>31</td>\n      <td>2013-03-22</td>\n      <td>17.10</td>\n      <td>17.29</td>\n      <td>16.77</td>\n      <td>16.86</td>\n      <td>8545200.0</td>\n      <td>AAL</td>\n    </tr>\n    <tr>\n      <th>30</th>\n      <td>32</td>\n      <td>2013-03-25</td>\n      <td>16.92</td>\n      <td>17.00</td>\n      <td>16.35</td>\n      <td>16.60</td>\n      <td>8400000.0</td>\n      <td>AAL</td>\n    </tr>\n    <tr>\n      <th>31</th>\n      <td>33</td>\n      <td>2013-03-26</td>\n      <td>16.67</td>\n      <td>16.84</td>\n      <td>16.50</td>\n      <td>16.51</td>\n      <td>6898500.0</td>\n      <td>AAL</td>\n    </tr>\n    <tr>\n      <th>32</th>\n      <td>34</td>\n      <td>2013-03-27</td>\n      <td>16.48</td>\n      <td>16.77</td>\n      <td>16.33</td>\n      <td>16.65</td>\n      <td>5537100.0</td>\n      <td>AAL</td>\n    </tr>\n    <tr>\n      <th>33</th>\n      <td>35</td>\n      <td>2013-03-28</td>\n      <td>17.00</td>\n      <td>17.09</td>\n      <td>16.82</td>\n      <td>16.97</td>\n      <td>8324100.0</td>\n      <td>AAL</td>\n    </tr>\n    <tr>\n      <th>34</th>\n      <td>36</td>\n      <td>2013-04-01</td>\n      <td>17.02</td>\n      <td>17.13</td>\n      <td>16.54</td>\n      <td>16.67</td>\n      <td>5222300.0</td>\n      <td>AAL</td>\n    </tr>\n    <tr>\n      <th>35</th>\n      <td>37</td>\n      <td>2013-04-02</td>\n      <td>16.48</td>\n      <td>16.50</td>\n      <td>15.71</td>\n      <td>15.74</td>\n      <td>14595600.0</td>\n      <td>AAL</td>\n    </tr>\n    <tr>\n      <th>36</th>\n      <td>38</td>\n      <td>2013-04-03</td>\n      <td>15.82</td>\n      <td>15.92</td>\n      <td>15.13</td>\n      <td>15.53</td>\n      <td>14658300.0</td>\n      <td>AAL</td>\n    </tr>\n    <tr>\n      <th>37</th>\n      <td>39</td>\n      <td>2013-04-04</td>\n      <td>15.12</td>\n      <td>15.71</td>\n      <td>15.12</td>\n      <td>15.69</td>\n      <td>5520300.0</td>\n      <td>AAL</td>\n    </tr>\n    <tr>\n      <th>38</th>\n      <td>40</td>\n      <td>2013-04-05</td>\n      <td>15.17</td>\n      <td>15.79</td>\n      <td>15.03</td>\n      <td>15.72</td>\n      <td>5252300.0</td>\n      <td>AAL</td>\n    </tr>\n  </tbody>\n</table>\n</div>"
     },
     "execution_count": 22,
     "metadata": {},
     "output_type": "execute_result"
    }
   ],
   "source": [
    "# 1.删除缺失值最多的列。\n",
    "# (1) 导入 DataFrame\n",
    "# (2) 遍历列，记录当前最多 NA 值的列名（或列序号）\n",
    "# (3) 按照列名（或列序号）删除该列\n",
    "data_with_na = os.path.join(\"..\", \"data\", \"2.2.5 Exercises.csv\")\n",
    "data = pd.read_csv(data_with_na, sep='\\t')\n",
    "data"
   ],
   "metadata": {
    "collapsed": false,
    "ExecuteTime": {
     "start_time": "2023-04-20T16:18:02.745629Z",
     "end_time": "2023-04-20T16:18:02.837626Z"
    }
   }
  },
  {
   "cell_type": "code",
   "execution_count": 30,
   "outputs": [
    {
     "data": {
      "text/plain": "(39, 8)"
     },
     "execution_count": 30,
     "metadata": {},
     "output_type": "execute_result"
    }
   ],
   "source": [
    "type(data)\n",
    "data.shape"
   ],
   "metadata": {
    "collapsed": false,
    "ExecuteTime": {
     "start_time": "2023-04-20T19:10:49.986855Z",
     "end_time": "2023-04-20T19:10:50.105849Z"
    }
   }
  },
  {
   "cell_type": "code",
   "execution_count": null,
   "outputs": [],
   "source": [
    "count = data.shape[0]  # 每列最多 shape[0] 个元素。求最小值前初始值设为最大\n",
    "for col in data.columns:\n",
    "    if (data[col].count() < count):\n",
    "        count = data[col].count()#%% md\n",
    "## 二、数据预处理"
   ],
   "metadata": {
    "collapsed": false
   }
  },
  {
   "cell_type": "markdown",
   "source": [
    "1. 读取数据集"
   ],
   "metadata": {
    "collapsed": false
   }
  },
  {
   "cell_type": "code",
   "execution_count": null,
   "outputs": [],
   "source": [
    "import os\n",
    "\n",
    "import torch\n",
    "\n",
    "os.listdir(\".\")"
   ],
   "metadata": {
    "collapsed": false
   }
  },
  {
   "cell_type": "code",
   "execution_count": null,
   "outputs": [],
   "source": [
    "# os 包的常用函数见  https://zhuanlan.zhihu.com/p/150835193\n",
    "os.makedirs(os.path.join(\"..\", \"data\"), exist_ok=True)\n",
    "data_file = os.path.join(\"..\", \"data\", \"house_csv\")\n",
    "\n",
    "# \"with open() as f\" 是语法糖，省略 try...finally 块和 f.close() 语句\n",
    "with open(data_file, 'w') as f:\n",
    "    f.write('''NumRooms,RoofType,Price\n",
    "NA,NA,127500\n",
    "2,NA,106000\n",
    "4,Slate,178100\n",
    "NA,NA,140000''')"
   ],
   "metadata": {
    "collapsed": false
   }
  },
  {
   "cell_type": "code",
   "execution_count": null,
   "outputs": [],
   "source": [
    "import pandas as pd\n",
    "\n",
    "data = pd.read_csv(data_file)\n",
    "\n",
    "print(data)"
   ],
   "metadata": {
    "collapsed": false
   }
  },
  {
   "cell_type": "markdown",
   "source": [
    "2. 缺失值处理\n",
    "   要么插入一个替代值，要么直接删除该项"
   ],
   "metadata": {
    "collapsed": false
   }
  },
  {
   "cell_type": "code",
   "execution_count": null,
   "outputs": [],
   "source": [
    "inputs, targets = data.iloc[:, 0:2], data.iloc[:, 2]\n",
    "inputs = pd.get_dummies(inputs, dummy_na=True)\n",
    "print(inputs)"
   ],
   "metadata": {
    "collapsed": false
   }
  },
  {
   "cell_type": "code",
   "execution_count": null,
   "outputs": [],
   "source": [
    "inputs = inputs.fillna(inputs.mean())\n",
    "inputs = inputs.astype(int)  # astype(int) 将True / False -> 1 / 0\n",
    "print(inputs)"
   ],
   "metadata": {
    "collapsed": false
   }
  },
  {
   "cell_type": "markdown",
   "source": [
    "3. 转换为`Tensor`格式"
   ],
   "metadata": {
    "collapsed": false
   }
  },
  {
   "cell_type": "code",
   "execution_count": null,
   "outputs": [],
   "source": [
    "X, y = torch.tensor(inputs.values), torch.tensor(targets.values)\n",
    "X, y"
   ],
   "metadata": {
    "collapsed": false
   }
  },
  {
   "cell_type": "markdown",
   "source": [
    "---\n"
   ],
   "metadata": {
    "collapsed": false
   }
  },
  {
   "cell_type": "markdown",
   "source": [
    "## 练习\n",
    "创建包含更多行和列的原始数据集。\n",
    "    1. 删除缺失值最多的列。\n",
    "    2. 将预处理后的数据集转换为张量格式。"
   ],
   "metadata": {
    "collapsed": false
   }
  },
  {
   "cell_type": "code",
   "execution_count": 35,
   "outputs": [
    {
     "data": {
      "text/plain": "         1        date   open   high    low  close      volume Name\n0        2         NaN  15.07  15.12  14.63  14.75         NaN  AAL\n1        3  2013-02-11  14.89  15.01  14.26  14.46   8882000.0  AAL\n2        4  2013-02-12  14.45  14.51  14.10  14.27   8126000.0  AAL\n3        5  2013-02-13  14.30  14.94  14.25  14.66  10259500.0  AAL\n4        6  2013-02-14  14.94  14.96  13.16  13.99         NaN  AAL\n5        7  2013-02-15  13.93  14.61  13.93  14.50  15628000.0  AAL\n6        8  2013-02-19  14.33  14.56  14.08  14.26         NaN  AAL\n7        9  2013-02-20  14.17  14.26  13.15  13.33  14725200.0  AAL\n8       10  2013-02-21  13.62  13.95  12.90  13.37         NaN  AAL\n9       11  2013-02-22  13.57  13.60  13.21  13.57   6071400.0  AAL\n10      12  2013-02-25  13.60  13.76  13.00  13.02   7186400.0  AAL\n11      13  2013-02-26  13.14  13.42  12.70  13.26         NaN  AAL\n12      14  2013-02-27  13.28  13.62  13.18  13.41   7390500.0  AAL\n13      15  2013-02-28  13.49  13.63  13.39    NaN         NaN  AAL\n14      16  2013-03-01  13.37  13.95  13.32  13.61   7376800.0  AAL\n15      17  2013-03-04  13.50  14.07    NaN  13.90   8174800.0  AAL\n16      18  2013-03-05  14.01  14.05    NaN  14.05         NaN  AAL\n17      19  2013-03-06  14.52  14.68  14.25  14.57  13243200.0  AAL\n18      20  2013-03-07  14.70  14.93  14.50  14.82   9125300.0  AAL\n19      21  2013-03-08  14.99  15.20  14.84  14.92         NaN  AAL\n20      22  2013-03-11  14.85    NaN  14.71  15.13   6961800.0  AAL\n21      23  2013-03-12  15.14  15.60  14.95  15.50   8999100.0  AAL\n22      24  2013-03-13  15.54    NaN  15.48  15.91         NaN  AAL\n23      25  2013-03-14  15.98  16.36  15.93  16.25   8383300.0  AAL\n24      26  2013-03-15  16.45    NaN  15.88  15.98  17667700.0  AAL\n25      27  2013-03-18  15.80  16.33  15.71  16.29         NaN  AAL\n26      28  2013-03-19  16.48  16.85  16.41  16.78  11805300.0  AAL\n27      29  2013-03-20  17.13  17.33  16.87  17.23  10819800.0  AAL\n28      30  2013-03-21  17.21  17.43  16.87  17.00  10740800.0  AAL\n29      31  2013-03-22  17.10  17.29  16.77  16.86   8545200.0  AAL\n30      32  2013-03-25  16.92  17.00  16.35  16.60   8400000.0  AAL\n31      33  2013-03-26  16.67  16.84  16.50  16.51   6898500.0  AAL\n32      34  2013-03-27  16.48  16.77  16.33  16.65   5537100.0  AAL\n33      35  2013-03-28  17.00  17.09  16.82  16.97   8324100.0  AAL\n34      36  2013-04-01  17.02  17.13  16.54  16.67   5222300.0  AAL\n35      37  2013-04-02  16.48  16.50  15.71  15.74  14595600.0  AAL\n36      38  2013-04-03  15.82  15.92  15.13  15.53  14658300.0  AAL\n37      39  2013-04-04  15.12  15.71  15.12  15.69   5520300.0  AAL\n38      40  2013-04-05  15.17  15.79  15.03  15.72   5252300.0  AAL",
      "text/html": "<div>\n<style scoped>\n    .dataframe tbody tr th:only-of-type {\n        vertical-align: middle;\n    }\n\n    .dataframe tbody tr th {\n        vertical-align: top;\n    }\n\n    .dataframe thead th {\n        text-align: right;\n    }\n</style>\n<table border=\"1\" class=\"dataframe\">\n  <thead>\n    <tr style=\"text-align: right;\">\n      <th></th>\n      <th>1</th>\n      <th>date</th>\n      <th>open</th>\n      <th>high</th>\n      <th>low</th>\n      <th>close</th>\n      <th>volume</th>\n      <th>Name</th>\n    </tr>\n  </thead>\n  <tbody>\n    <tr>\n      <th>0</th>\n      <td>2</td>\n      <td>NaN</td>\n      <td>15.07</td>\n      <td>15.12</td>\n      <td>14.63</td>\n      <td>14.75</td>\n      <td>NaN</td>\n      <td>AAL</td>\n    </tr>\n    <tr>\n      <th>1</th>\n      <td>3</td>\n      <td>2013-02-11</td>\n      <td>14.89</td>\n      <td>15.01</td>\n      <td>14.26</td>\n      <td>14.46</td>\n      <td>8882000.0</td>\n      <td>AAL</td>\n    </tr>\n    <tr>\n      <th>2</th>\n      <td>4</td>\n      <td>2013-02-12</td>\n      <td>14.45</td>\n      <td>14.51</td>\n      <td>14.10</td>\n      <td>14.27</td>\n      <td>8126000.0</td>\n      <td>AAL</td>\n    </tr>\n    <tr>\n      <th>3</th>\n      <td>5</td>\n      <td>2013-02-13</td>\n      <td>14.30</td>\n      <td>14.94</td>\n      <td>14.25</td>\n      <td>14.66</td>\n      <td>10259500.0</td>\n      <td>AAL</td>\n    </tr>\n    <tr>\n      <th>4</th>\n      <td>6</td>\n      <td>2013-02-14</td>\n      <td>14.94</td>\n      <td>14.96</td>\n      <td>13.16</td>\n      <td>13.99</td>\n      <td>NaN</td>\n      <td>AAL</td>\n    </tr>\n    <tr>\n      <th>5</th>\n      <td>7</td>\n      <td>2013-02-15</td>\n      <td>13.93</td>\n      <td>14.61</td>\n      <td>13.93</td>\n      <td>14.50</td>\n      <td>15628000.0</td>\n      <td>AAL</td>\n    </tr>\n    <tr>\n      <th>6</th>\n      <td>8</td>\n      <td>2013-02-19</td>\n      <td>14.33</td>\n      <td>14.56</td>\n      <td>14.08</td>\n      <td>14.26</td>\n      <td>NaN</td>\n      <td>AAL</td>\n    </tr>\n    <tr>\n      <th>7</th>\n      <td>9</td>\n      <td>2013-02-20</td>\n      <td>14.17</td>\n      <td>14.26</td>\n      <td>13.15</td>\n      <td>13.33</td>\n      <td>14725200.0</td>\n      <td>AAL</td>\n    </tr>\n    <tr>\n      <th>8</th>\n      <td>10</td>\n      <td>2013-02-21</td>\n      <td>13.62</td>\n      <td>13.95</td>\n      <td>12.90</td>\n      <td>13.37</td>\n      <td>NaN</td>\n      <td>AAL</td>\n    </tr>\n    <tr>\n      <th>9</th>\n      <td>11</td>\n      <td>2013-02-22</td>\n      <td>13.57</td>\n      <td>13.60</td>\n      <td>13.21</td>\n      <td>13.57</td>\n      <td>6071400.0</td>\n      <td>AAL</td>\n    </tr>\n    <tr>\n      <th>10</th>\n      <td>12</td>\n      <td>2013-02-25</td>\n      <td>13.60</td>\n      <td>13.76</td>\n      <td>13.00</td>\n      <td>13.02</td>\n      <td>7186400.0</td>\n      <td>AAL</td>\n    </tr>\n    <tr>\n      <th>11</th>\n      <td>13</td>\n      <td>2013-02-26</td>\n      <td>13.14</td>\n      <td>13.42</td>\n      <td>12.70</td>\n      <td>13.26</td>\n      <td>NaN</td>\n      <td>AAL</td>\n    </tr>\n    <tr>\n      <th>12</th>\n      <td>14</td>\n      <td>2013-02-27</td>\n      <td>13.28</td>\n      <td>13.62</td>\n      <td>13.18</td>\n      <td>13.41</td>\n      <td>7390500.0</td>\n      <td>AAL</td>\n    </tr>\n    <tr>\n      <th>13</th>\n      <td>15</td>\n      <td>2013-02-28</td>\n      <td>13.49</td>\n      <td>13.63</td>\n      <td>13.39</td>\n      <td>NaN</td>\n      <td>NaN</td>\n      <td>AAL</td>\n    </tr>\n    <tr>\n      <th>14</th>\n      <td>16</td>\n      <td>2013-03-01</td>\n      <td>13.37</td>\n      <td>13.95</td>\n      <td>13.32</td>\n      <td>13.61</td>\n      <td>7376800.0</td>\n      <td>AAL</td>\n    </tr>\n    <tr>\n      <th>15</th>\n      <td>17</td>\n      <td>2013-03-04</td>\n      <td>13.50</td>\n      <td>14.07</td>\n      <td>NaN</td>\n      <td>13.90</td>\n      <td>8174800.0</td>\n      <td>AAL</td>\n    </tr>\n    <tr>\n      <th>16</th>\n      <td>18</td>\n      <td>2013-03-05</td>\n      <td>14.01</td>\n      <td>14.05</td>\n      <td>NaN</td>\n      <td>14.05</td>\n      <td>NaN</td>\n      <td>AAL</td>\n    </tr>\n    <tr>\n      <th>17</th>\n      <td>19</td>\n      <td>2013-03-06</td>\n      <td>14.52</td>\n      <td>14.68</td>\n      <td>14.25</td>\n      <td>14.57</td>\n      <td>13243200.0</td>\n      <td>AAL</td>\n    </tr>\n    <tr>\n      <th>18</th>\n      <td>20</td>\n      <td>2013-03-07</td>\n      <td>14.70</td>\n      <td>14.93</td>\n      <td>14.50</td>\n      <td>14.82</td>\n      <td>9125300.0</td>\n      <td>AAL</td>\n    </tr>\n    <tr>\n      <th>19</th>\n      <td>21</td>\n      <td>2013-03-08</td>\n      <td>14.99</td>\n      <td>15.20</td>\n      <td>14.84</td>\n      <td>14.92</td>\n      <td>NaN</td>\n      <td>AAL</td>\n    </tr>\n    <tr>\n      <th>20</th>\n      <td>22</td>\n      <td>2013-03-11</td>\n      <td>14.85</td>\n      <td>NaN</td>\n      <td>14.71</td>\n      <td>15.13</td>\n      <td>6961800.0</td>\n      <td>AAL</td>\n    </tr>\n    <tr>\n      <th>21</th>\n      <td>23</td>\n      <td>2013-03-12</td>\n      <td>15.14</td>\n      <td>15.60</td>\n      <td>14.95</td>\n      <td>15.50</td>\n      <td>8999100.0</td>\n      <td>AAL</td>\n    </tr>\n    <tr>\n      <th>22</th>\n      <td>24</td>\n      <td>2013-03-13</td>\n      <td>15.54</td>\n      <td>NaN</td>\n      <td>15.48</td>\n      <td>15.91</td>\n      <td>NaN</td>\n      <td>AAL</td>\n    </tr>\n    <tr>\n      <th>23</th>\n      <td>25</td>\n      <td>2013-03-14</td>\n      <td>15.98</td>\n      <td>16.36</td>\n      <td>15.93</td>\n      <td>16.25</td>\n      <td>8383300.0</td>\n      <td>AAL</td>\n    </tr>\n    <tr>\n      <th>24</th>\n      <td>26</td>\n      <td>2013-03-15</td>\n      <td>16.45</td>\n      <td>NaN</td>\n      <td>15.88</td>\n      <td>15.98</td>\n      <td>17667700.0</td>\n      <td>AAL</td>\n    </tr>\n    <tr>\n      <th>25</th>\n      <td>27</td>\n      <td>2013-03-18</td>\n      <td>15.80</td>\n      <td>16.33</td>\n      <td>15.71</td>\n      <td>16.29</td>\n      <td>NaN</td>\n      <td>AAL</td>\n    </tr>\n    <tr>\n      <th>26</th>\n      <td>28</td>\n      <td>2013-03-19</td>\n      <td>16.48</td>\n      <td>16.85</td>\n      <td>16.41</td>\n      <td>16.78</td>\n      <td>11805300.0</td>\n      <td>AAL</td>\n    </tr>\n    <tr>\n      <th>27</th>\n      <td>29</td>\n      <td>2013-03-20</td>\n      <td>17.13</td>\n      <td>17.33</td>\n      <td>16.87</td>\n      <td>17.23</td>\n      <td>10819800.0</td>\n      <td>AAL</td>\n    </tr>\n    <tr>\n      <th>28</th>\n      <td>30</td>\n      <td>2013-03-21</td>\n      <td>17.21</td>\n      <td>17.43</td>\n      <td>16.87</td>\n      <td>17.00</td>\n      <td>10740800.0</td>\n      <td>AAL</td>\n    </tr>\n    <tr>\n      <th>29</th>\n      <td>31</td>\n      <td>2013-03-22</td>\n      <td>17.10</td>\n      <td>17.29</td>\n      <td>16.77</td>\n      <td>16.86</td>\n      <td>8545200.0</td>\n      <td>AAL</td>\n    </tr>\n    <tr>\n      <th>30</th>\n      <td>32</td>\n      <td>2013-03-25</td>\n      <td>16.92</td>\n      <td>17.00</td>\n      <td>16.35</td>\n      <td>16.60</td>\n      <td>8400000.0</td>\n      <td>AAL</td>\n    </tr>\n    <tr>\n      <th>31</th>\n      <td>33</td>\n      <td>2013-03-26</td>\n      <td>16.67</td>\n      <td>16.84</td>\n      <td>16.50</td>\n      <td>16.51</td>\n      <td>6898500.0</td>\n      <td>AAL</td>\n    </tr>\n    <tr>\n      <th>32</th>\n      <td>34</td>\n      <td>2013-03-27</td>\n      <td>16.48</td>\n      <td>16.77</td>\n      <td>16.33</td>\n      <td>16.65</td>\n      <td>5537100.0</td>\n      <td>AAL</td>\n    </tr>\n    <tr>\n      <th>33</th>\n      <td>35</td>\n      <td>2013-03-28</td>\n      <td>17.00</td>\n      <td>17.09</td>\n      <td>16.82</td>\n      <td>16.97</td>\n      <td>8324100.0</td>\n      <td>AAL</td>\n    </tr>\n    <tr>\n      <th>34</th>\n      <td>36</td>\n      <td>2013-04-01</td>\n      <td>17.02</td>\n      <td>17.13</td>\n      <td>16.54</td>\n      <td>16.67</td>\n      <td>5222300.0</td>\n      <td>AAL</td>\n    </tr>\n    <tr>\n      <th>35</th>\n      <td>37</td>\n      <td>2013-04-02</td>\n      <td>16.48</td>\n      <td>16.50</td>\n      <td>15.71</td>\n      <td>15.74</td>\n      <td>14595600.0</td>\n      <td>AAL</td>\n    </tr>\n    <tr>\n      <th>36</th>\n      <td>38</td>\n      <td>2013-04-03</td>\n      <td>15.82</td>\n      <td>15.92</td>\n      <td>15.13</td>\n      <td>15.53</td>\n      <td>14658300.0</td>\n      <td>AAL</td>\n    </tr>\n    <tr>\n      <th>37</th>\n      <td>39</td>\n      <td>2013-04-04</td>\n      <td>15.12</td>\n      <td>15.71</td>\n      <td>15.12</td>\n      <td>15.69</td>\n      <td>5520300.0</td>\n      <td>AAL</td>\n    </tr>\n    <tr>\n      <th>38</th>\n      <td>40</td>\n      <td>2013-04-05</td>\n      <td>15.17</td>\n      <td>15.79</td>\n      <td>15.03</td>\n      <td>15.72</td>\n      <td>5252300.0</td>\n      <td>AAL</td>\n    </tr>\n  </tbody>\n</table>\n</div>"
     },
     "execution_count": 35,
     "metadata": {},
     "output_type": "execute_result"
    }
   ],
   "source": [
    "# 1.删除缺失值最多的列。\n",
    "# (1) 导入 DataFrame\n",
    "# (2) 遍历列，记录当前最多 NA 值的列名（或列序号）\n",
    "# (3) 按照列名（或列序号）删除该列\n",
    "data_with_na = os.path.join(\"..\", \"data\", \"2.2.5 Exercises.csv\")\n",
    "data = pd.read_csv(data_with_na, sep='\\t')\n",
    "data"
   ],
   "metadata": {
    "collapsed": false,
    "ExecuteTime": {
     "start_time": "2023-04-20T19:21:37.716134Z",
     "end_time": "2023-04-20T19:21:37.860133Z"
    }
   }
  },
  {
   "cell_type": "code",
   "execution_count": null,
   "outputs": [],
   "source": [
    "type(data)\n",
    "data.shape"
   ],
   "metadata": {
    "collapsed": false
   }
  },
  {
   "cell_type": "code",
   "execution_count": 67,
   "outputs": [
    {
     "data": {
      "text/plain": "     open   high    low  close\n0   15.07  15.12  14.63  14.75\n1   14.89  15.01  14.26  14.46\n2   14.45  14.51  14.10  14.27\n3   14.30  14.94  14.25  14.66\n4   14.94  14.96  13.16  13.99\n5   13.93  14.61  13.93  14.50\n6   14.33  14.56  14.08  14.26\n7   14.17  14.26  13.15  13.33\n8   13.62  13.95  12.90  13.37\n9   13.57  13.60  13.21  13.57\n10  13.60  13.76  13.00  13.02\n11  13.14  13.42  12.70  13.26\n12  13.28  13.62  13.18  13.41\n13  13.49  13.63  13.39    NaN\n14  13.37  13.95  13.32  13.61\n15  13.50  14.07    NaN  13.90\n16  14.01  14.05    NaN  14.05\n17  14.52  14.68  14.25  14.57\n18  14.70  14.93  14.50  14.82\n19  14.99  15.20  14.84  14.92\n20  14.85    NaN  14.71  15.13\n21  15.14  15.60  14.95  15.50\n22  15.54    NaN  15.48  15.91\n23  15.98  16.36  15.93  16.25\n24  16.45    NaN  15.88  15.98\n25  15.80  16.33  15.71  16.29\n26  16.48  16.85  16.41  16.78\n27  17.13  17.33  16.87  17.23\n28  17.21  17.43  16.87  17.00\n29  17.10  17.29  16.77  16.86\n30  16.92  17.00  16.35  16.60\n31  16.67  16.84  16.50  16.51\n32  16.48  16.77  16.33  16.65\n33  17.00  17.09  16.82  16.97\n34  17.02  17.13  16.54  16.67\n35  16.48  16.50  15.71  15.74\n36  15.82  15.92  15.13  15.53\n37  15.12  15.71  15.12  15.69\n38  15.17  15.79  15.03  15.72",
      "text/html": "<div>\n<style scoped>\n    .dataframe tbody tr th:only-of-type {\n        vertical-align: middle;\n    }\n\n    .dataframe tbody tr th {\n        vertical-align: top;\n    }\n\n    .dataframe thead th {\n        text-align: right;\n    }\n</style>\n<table border=\"1\" class=\"dataframe\">\n  <thead>\n    <tr style=\"text-align: right;\">\n      <th></th>\n      <th>open</th>\n      <th>high</th>\n      <th>low</th>\n      <th>close</th>\n    </tr>\n  </thead>\n  <tbody>\n    <tr>\n      <th>0</th>\n      <td>15.07</td>\n      <td>15.12</td>\n      <td>14.63</td>\n      <td>14.75</td>\n    </tr>\n    <tr>\n      <th>1</th>\n      <td>14.89</td>\n      <td>15.01</td>\n      <td>14.26</td>\n      <td>14.46</td>\n    </tr>\n    <tr>\n      <th>2</th>\n      <td>14.45</td>\n      <td>14.51</td>\n      <td>14.10</td>\n      <td>14.27</td>\n    </tr>\n    <tr>\n      <th>3</th>\n      <td>14.30</td>\n      <td>14.94</td>\n      <td>14.25</td>\n      <td>14.66</td>\n    </tr>\n    <tr>\n      <th>4</th>\n      <td>14.94</td>\n      <td>14.96</td>\n      <td>13.16</td>\n      <td>13.99</td>\n    </tr>\n    <tr>\n      <th>5</th>\n      <td>13.93</td>\n      <td>14.61</td>\n      <td>13.93</td>\n      <td>14.50</td>\n    </tr>\n    <tr>\n      <th>6</th>\n      <td>14.33</td>\n      <td>14.56</td>\n      <td>14.08</td>\n      <td>14.26</td>\n    </tr>\n    <tr>\n      <th>7</th>\n      <td>14.17</td>\n      <td>14.26</td>\n      <td>13.15</td>\n      <td>13.33</td>\n    </tr>\n    <tr>\n      <th>8</th>\n      <td>13.62</td>\n      <td>13.95</td>\n      <td>12.90</td>\n      <td>13.37</td>\n    </tr>\n    <tr>\n      <th>9</th>\n      <td>13.57</td>\n      <td>13.60</td>\n      <td>13.21</td>\n      <td>13.57</td>\n    </tr>\n    <tr>\n      <th>10</th>\n      <td>13.60</td>\n      <td>13.76</td>\n      <td>13.00</td>\n      <td>13.02</td>\n    </tr>\n    <tr>\n      <th>11</th>\n      <td>13.14</td>\n      <td>13.42</td>\n      <td>12.70</td>\n      <td>13.26</td>\n    </tr>\n    <tr>\n      <th>12</th>\n      <td>13.28</td>\n      <td>13.62</td>\n      <td>13.18</td>\n      <td>13.41</td>\n    </tr>\n    <tr>\n      <th>13</th>\n      <td>13.49</td>\n      <td>13.63</td>\n      <td>13.39</td>\n      <td>NaN</td>\n    </tr>\n    <tr>\n      <th>14</th>\n      <td>13.37</td>\n      <td>13.95</td>\n      <td>13.32</td>\n      <td>13.61</td>\n    </tr>\n    <tr>\n      <th>15</th>\n      <td>13.50</td>\n      <td>14.07</td>\n      <td>NaN</td>\n      <td>13.90</td>\n    </tr>\n    <tr>\n      <th>16</th>\n      <td>14.01</td>\n      <td>14.05</td>\n      <td>NaN</td>\n      <td>14.05</td>\n    </tr>\n    <tr>\n      <th>17</th>\n      <td>14.52</td>\n      <td>14.68</td>\n      <td>14.25</td>\n      <td>14.57</td>\n    </tr>\n    <tr>\n      <th>18</th>\n      <td>14.70</td>\n      <td>14.93</td>\n      <td>14.50</td>\n      <td>14.82</td>\n    </tr>\n    <tr>\n      <th>19</th>\n      <td>14.99</td>\n      <td>15.20</td>\n      <td>14.84</td>\n      <td>14.92</td>\n    </tr>\n    <tr>\n      <th>20</th>\n      <td>14.85</td>\n      <td>NaN</td>\n      <td>14.71</td>\n      <td>15.13</td>\n    </tr>\n    <tr>\n      <th>21</th>\n      <td>15.14</td>\n      <td>15.60</td>\n      <td>14.95</td>\n      <td>15.50</td>\n    </tr>\n    <tr>\n      <th>22</th>\n      <td>15.54</td>\n      <td>NaN</td>\n      <td>15.48</td>\n      <td>15.91</td>\n    </tr>\n    <tr>\n      <th>23</th>\n      <td>15.98</td>\n      <td>16.36</td>\n      <td>15.93</td>\n      <td>16.25</td>\n    </tr>\n    <tr>\n      <th>24</th>\n      <td>16.45</td>\n      <td>NaN</td>\n      <td>15.88</td>\n      <td>15.98</td>\n    </tr>\n    <tr>\n      <th>25</th>\n      <td>15.80</td>\n      <td>16.33</td>\n      <td>15.71</td>\n      <td>16.29</td>\n    </tr>\n    <tr>\n      <th>26</th>\n      <td>16.48</td>\n      <td>16.85</td>\n      <td>16.41</td>\n      <td>16.78</td>\n    </tr>\n    <tr>\n      <th>27</th>\n      <td>17.13</td>\n      <td>17.33</td>\n      <td>16.87</td>\n      <td>17.23</td>\n    </tr>\n    <tr>\n      <th>28</th>\n      <td>17.21</td>\n      <td>17.43</td>\n      <td>16.87</td>\n      <td>17.00</td>\n    </tr>\n    <tr>\n      <th>29</th>\n      <td>17.10</td>\n      <td>17.29</td>\n      <td>16.77</td>\n      <td>16.86</td>\n    </tr>\n    <tr>\n      <th>30</th>\n      <td>16.92</td>\n      <td>17.00</td>\n      <td>16.35</td>\n      <td>16.60</td>\n    </tr>\n    <tr>\n      <th>31</th>\n      <td>16.67</td>\n      <td>16.84</td>\n      <td>16.50</td>\n      <td>16.51</td>\n    </tr>\n    <tr>\n      <th>32</th>\n      <td>16.48</td>\n      <td>16.77</td>\n      <td>16.33</td>\n      <td>16.65</td>\n    </tr>\n    <tr>\n      <th>33</th>\n      <td>17.00</td>\n      <td>17.09</td>\n      <td>16.82</td>\n      <td>16.97</td>\n    </tr>\n    <tr>\n      <th>34</th>\n      <td>17.02</td>\n      <td>17.13</td>\n      <td>16.54</td>\n      <td>16.67</td>\n    </tr>\n    <tr>\n      <th>35</th>\n      <td>16.48</td>\n      <td>16.50</td>\n      <td>15.71</td>\n      <td>15.74</td>\n    </tr>\n    <tr>\n      <th>36</th>\n      <td>15.82</td>\n      <td>15.92</td>\n      <td>15.13</td>\n      <td>15.53</td>\n    </tr>\n    <tr>\n      <th>37</th>\n      <td>15.12</td>\n      <td>15.71</td>\n      <td>15.12</td>\n      <td>15.69</td>\n    </tr>\n    <tr>\n      <th>38</th>\n      <td>15.17</td>\n      <td>15.79</td>\n      <td>15.03</td>\n      <td>15.72</td>\n    </tr>\n  </tbody>\n</table>\n</div>"
     },
     "execution_count": 67,
     "metadata": {},
     "output_type": "execute_result"
    }
   ],
   "source": [
    "count = data.shape[0]  # 每列最多 shape[0] 个元素。求最小值前初始值设为最大\n",
    "cur_loc_name = \"\"\n",
    "for col in data.columns:\n",
    "    if data[col].count() < count:\n",
    "        count = data[col].count()\n",
    "        cur_loc_name = col\n",
    "\n",
    "res = data.drop(columns=[cur_loc_name])   # drop() 是拷贝修改后的新值\n",
    "res = res.iloc[:,2:6]\n",
    "res"
   ],
   "metadata": {
    "collapsed": false,
    "ExecuteTime": {
     "start_time": "2023-04-20T19:56:50.891061Z",
     "end_time": "2023-04-20T19:56:50.982099Z"
    }
   }
  },
  {
   "cell_type": "code",
   "execution_count": 69,
   "outputs": [
    {
     "data": {
      "text/plain": "tensor([[15.0700, 15.1200, 14.6300, 14.7500],\n        [14.8900, 15.0100, 14.2600, 14.4600],\n        [14.4500, 14.5100, 14.1000, 14.2700],\n        [14.3000, 14.9400, 14.2500, 14.6600],\n        [14.9400, 14.9600, 13.1600, 13.9900],\n        [13.9300, 14.6100, 13.9300, 14.5000],\n        [14.3300, 14.5600, 14.0800, 14.2600],\n        [14.1700, 14.2600, 13.1500, 13.3300],\n        [13.6200, 13.9500, 12.9000, 13.3700],\n        [13.5700, 13.6000, 13.2100, 13.5700],\n        [13.6000, 13.7600, 13.0000, 13.0200],\n        [13.1400, 13.4200, 12.7000, 13.2600],\n        [13.2800, 13.6200, 13.1800, 13.4100],\n        [13.4900, 13.6300, 13.3900,     nan],\n        [13.3700, 13.9500, 13.3200, 13.6100],\n        [13.5000, 14.0700,     nan, 13.9000],\n        [14.0100, 14.0500,     nan, 14.0500],\n        [14.5200, 14.6800, 14.2500, 14.5700],\n        [14.7000, 14.9300, 14.5000, 14.8200],\n        [14.9900, 15.2000, 14.8400, 14.9200],\n        [14.8500,     nan, 14.7100, 15.1300],\n        [15.1400, 15.6000, 14.9500, 15.5000],\n        [15.5400,     nan, 15.4800, 15.9100],\n        [15.9800, 16.3600, 15.9300, 16.2500],\n        [16.4500,     nan, 15.8800, 15.9800],\n        [15.8000, 16.3300, 15.7100, 16.2900],\n        [16.4800, 16.8500, 16.4100, 16.7800],\n        [17.1300, 17.3300, 16.8700, 17.2300],\n        [17.2100, 17.4300, 16.8700, 17.0000],\n        [17.1000, 17.2900, 16.7700, 16.8600],\n        [16.9200, 17.0000, 16.3500, 16.6000],\n        [16.6700, 16.8400, 16.5000, 16.5100],\n        [16.4800, 16.7700, 16.3300, 16.6500],\n        [17.0000, 17.0900, 16.8200, 16.9700],\n        [17.0200, 17.1300, 16.5400, 16.6700],\n        [16.4800, 16.5000, 15.7100, 15.7400],\n        [15.8200, 15.9200, 15.1300, 15.5300],\n        [15.1200, 15.7100, 15.1200, 15.6900],\n        [15.1700, 15.7900, 15.0300, 15.7200]], dtype=torch.float64)"
     },
     "execution_count": 69,
     "metadata": {},
     "output_type": "execute_result"
    }
   ],
   "source": [
    "# 2. 将预处理后的数据集转换为张量格式\n",
    "\n",
    "# 格式统一，可用from_numpy()\n",
    "torch.from_numpy(res.values)"
   ],
   "metadata": {
    "collapsed": false,
    "ExecuteTime": {
     "start_time": "2023-04-20T19:57:59.663198Z",
     "end_time": "2023-04-20T19:57:59.840191Z"
    }
   }
  },
  {
   "cell_type": "code",
   "execution_count": 48,
   "outputs": [],
   "source": [],
   "metadata": {
    "collapsed": false,
    "ExecuteTime": {
     "start_time": "2023-04-20T19:38:07.495776Z",
     "end_time": "2023-04-20T19:38:07.579368Z"
    }
   }
  },
  {
   "cell_type": "code",
   "execution_count": null,
   "outputs": [],
   "source": [],
   "metadata": {
    "collapsed": false
   }
  }
 ],
 "metadata": {
  "kernelspec": {
   "display_name": "Python 3",
   "language": "python",
   "name": "python3"
  },
  "language_info": {
   "codemirror_mode": {
    "name": "ipython",
    "version": 2
   },
   "file_extension": ".py",
   "mimetype": "text/x-python",
   "name": "python",
   "nbconvert_exporter": "python",
   "pygments_lexer": "ipython2",
   "version": "2.7.6"
  }
 },
 "nbformat": 4,
 "nbformat_minor": 0
}
