{
 "cells": [
  {
   "cell_type": "markdown",
   "source": [
    "上一章从零开始的实现，大部分操作在`PyTorch`中都有现成的组件。\n",
    "\n",
    "## 1.生成数据集"
   ],
   "metadata": {
    "collapsed": false
   }
  },
  {
   "cell_type": "code",
   "execution_count": 20,
   "metadata": {
    "collapsed": true,
    "ExecuteTime": {
     "end_time": "2023-05-11T08:06:18.784382200Z",
     "start_time": "2023-05-11T08:06:18.609385800Z"
    }
   },
   "outputs": [],
   "source": [
    "import numpy as np\n",
    "import torch\n",
    "from torch.utils import data\n",
    "from d2l import torch as d2l\n",
    "\n",
    "true_w = torch.tensor([2, -3.4])\n",
    "true_b = 4.2\n",
    "features, labels = d2l.synthetic_data(true_w, true_b, 1000)"
   ]
  },
  {
   "cell_type": "markdown",
   "source": [
    "## 2.读取数据集"
   ],
   "metadata": {
    "collapsed": false
   }
  },
  {
   "cell_type": "code",
   "execution_count": 21,
   "outputs": [],
   "source": [
    "def load_array(data_arrays, batch_size, is_train=True):  #@save\n",
    "    \"\"\"构造一个PyTorch数据迭代器\"\"\"\n",
    "    dataset = data.TensorDataset(*data_arrays)\n",
    "    return data.DataLoader(dataset, batch_size, shuffle=is_train)\n",
    "\n",
    "batch_size = 10\n",
    "data_iter = load_array((features, labels), batch_size)"
   ],
   "metadata": {
    "collapsed": false,
    "ExecuteTime": {
     "end_time": "2023-05-11T08:06:18.786379Z",
     "start_time": "2023-05-11T08:06:18.629392500Z"
    }
   }
  },
  {
   "cell_type": "code",
   "execution_count": 22,
   "outputs": [
    {
     "data": {
      "text/plain": "[tensor([[ 1.1030e+00,  1.2113e+00],\n         [-1.9628e+00, -1.5389e+00],\n         [ 1.1084e+00, -1.4502e+00],\n         [ 8.0156e-01,  3.1062e-01],\n         [ 4.8958e-01, -6.0294e-01],\n         [ 1.9926e-01,  5.1988e-01],\n         [-2.0370e+00,  1.3557e+00],\n         [-2.6732e-04, -1.1384e+00],\n         [ 1.8473e+00,  1.4467e+00],\n         [ 1.4747e+00,  7.4421e-01]]),\n tensor([[ 2.2916],\n         [ 5.5219],\n         [11.3455],\n         [ 4.7644],\n         [ 7.2243],\n         [ 2.8308],\n         [-4.4660],\n         [ 8.0637],\n         [ 2.9657],\n         [ 4.6176]])]"
     },
     "execution_count": 22,
     "metadata": {},
     "output_type": "execute_result"
    }
   ],
   "source": [
    "next(iter(data_iter))"
   ],
   "metadata": {
    "collapsed": false,
    "ExecuteTime": {
     "end_time": "2023-05-11T08:06:18.787379Z",
     "start_time": "2023-05-11T08:06:18.644389800Z"
    }
   }
  },
  {
   "cell_type": "markdown",
   "source": [
    "## 3.定义模型\n",
    "在 `PyTorch`中，全连接层在 `Linear` 类中定义。\n",
    "值得注意的是，我们将两个参数传递到 `nn.Linear` 中。\n",
    "- 第一个指定输入特征形状，即2，\n",
    "- 第二个指定输出特征形状，输出特征形状为单个标量，因此为1。"
   ],
   "metadata": {
    "collapsed": false
   }
  },
  {
   "cell_type": "code",
   "execution_count": 23,
   "outputs": [],
   "source": [
    "from torch import nn\n",
    "\n",
    "net = nn.Sequential(nn.Linear(2,1))"
   ],
   "metadata": {
    "collapsed": false,
    "ExecuteTime": {
     "end_time": "2023-05-11T08:06:18.788378800Z",
     "start_time": "2023-05-11T08:06:18.664384100Z"
    }
   }
  },
  {
   "cell_type": "markdown",
   "source": [
    "## 4. 初始化模型参数\n",
    "`PyTorch` 通常有预定义的方法来初始化参数。\n",
    " 本例指定每个权重参数应该从**均值为0、标准差为0.01的正态分布**中随机采样，偏置参数将初始化为 0 。"
   ],
   "metadata": {
    "collapsed": false
   }
  },
  {
   "cell_type": "code",
   "execution_count": 24,
   "outputs": [
    {
     "data": {
      "text/plain": "tensor([0.])"
     },
     "execution_count": 24,
     "metadata": {},
     "output_type": "execute_result"
    }
   ],
   "source": [
    "# PyTorch 允许直接通过 weight.data 和 bias.data 访问参数\n",
    "# 超参数位于第一个图层，即 net[0]\n",
    "net[0].weight.data.normal_(0,0.01)\n",
    "net[0].bias.data.fill_(0)"
   ],
   "metadata": {
    "collapsed": false,
    "ExecuteTime": {
     "end_time": "2023-05-11T08:06:18.789379200Z",
     "start_time": "2023-05-11T08:06:18.698402500Z"
    }
   }
  },
  {
   "cell_type": "markdown",
   "source": [
    "## 5.定义损失函数"
   ],
   "metadata": {
    "collapsed": false
   }
  },
  {
   "cell_type": "code",
   "execution_count": 25,
   "outputs": [],
   "source": [
    "loss = nn.MSELoss()"
   ],
   "metadata": {
    "collapsed": false,
    "ExecuteTime": {
     "end_time": "2023-05-11T08:06:18.789379200Z",
     "start_time": "2023-05-11T08:06:18.709384800Z"
    }
   }
  },
  {
   "cell_type": "markdown",
   "source": [
    "## 6.定义优化算法\n",
    "小批量随机梯度下降算法是一种优化神经网络的标准工具， PyTorch在optim模块中实现了该算法的许多变种。\n",
    "小批量随机梯度下降只需要设置lr值，这里设置为0.03"
   ],
   "metadata": {
    "collapsed": false
   }
  },
  {
   "cell_type": "code",
   "execution_count": 26,
   "outputs": [],
   "source": [
    "trainer = torch.optim.SGD(net.parameters(),lr=0.03)"
   ],
   "metadata": {
    "collapsed": false,
    "ExecuteTime": {
     "end_time": "2023-05-11T08:06:18.816047400Z",
     "start_time": "2023-05-11T08:06:18.721386200Z"
    }
   }
  },
  {
   "cell_type": "markdown",
   "source": [
    "# 7.训练"
   ],
   "metadata": {
    "collapsed": false
   }
  },
  {
   "cell_type": "code",
   "execution_count": 27,
   "outputs": [
    {
     "name": "stdout",
     "output_type": "stream",
     "text": [
      "epoch 1, loss 0.000285\n",
      "epoch 2, loss 0.000100\n",
      "epoch 3, loss 0.000100\n"
     ]
    }
   ],
   "source": [
    "num_epochs = 3\n",
    "for epoch in range(num_epochs):\n",
    "    for X, y in data_iter:\n",
    "        l = loss(net(X) ,y)\n",
    "        trainer.zero_grad()\n",
    "        l.backward()\n",
    "        trainer.step()\n",
    "    l = loss(net(features), labels)\n",
    "    print(f'epoch {epoch + 1}, loss {l:f}')"
   ],
   "metadata": {
    "collapsed": false,
    "ExecuteTime": {
     "end_time": "2023-05-11T08:06:21.449886100Z",
     "start_time": "2023-05-11T08:06:21.284016800Z"
    }
   }
  },
  {
   "cell_type": "markdown",
   "source": [
    "## 8.估计误差"
   ],
   "metadata": {
    "collapsed": false
   }
  },
  {
   "cell_type": "code",
   "execution_count": 28,
   "outputs": [
    {
     "name": "stdout",
     "output_type": "stream",
     "text": [
      "w的估计误差： tensor([0.0003, 0.0003])\n",
      "b的估计误差： tensor([0.0009])\n"
     ]
    }
   ],
   "source": [
    "w = net[0].weight.data\n",
    "print('w的估计误差：', true_w - w.reshape(true_w.shape))\n",
    "b = net[0].bias.data\n",
    "print('b的估计误差：', true_b - b)"
   ],
   "metadata": {
    "collapsed": false,
    "ExecuteTime": {
     "end_time": "2023-05-11T08:12:23.411901300Z",
     "start_time": "2023-05-11T08:12:23.336900100Z"
    }
   }
  },
  {
   "cell_type": "markdown",
   "source": [],
   "metadata": {
    "collapsed": false
   }
  }
 ],
 "metadata": {
  "kernelspec": {
   "display_name": "Python 3",
   "language": "python",
   "name": "python3"
  },
  "language_info": {
   "codemirror_mode": {
    "name": "ipython",
    "version": 2
   },
   "file_extension": ".py",
   "mimetype": "text/x-python",
   "name": "python",
   "nbconvert_exporter": "python",
   "pygments_lexer": "ipython2",
   "version": "2.7.6"
  }
 },
 "nbformat": 4,
 "nbformat_minor": 0
}
