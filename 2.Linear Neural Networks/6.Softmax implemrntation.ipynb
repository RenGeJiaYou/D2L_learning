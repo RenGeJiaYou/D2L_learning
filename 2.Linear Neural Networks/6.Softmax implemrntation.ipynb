{
 "cells": [
  {
   "cell_type": "code",
   "execution_count": null,
   "outputs": [],
   "source": [
    "# softmax 从 0 实现"
   ],
   "metadata": {
    "collapsed": false
   }
  },
  {
   "cell_type": "code",
   "execution_count": 1,
   "metadata": {
    "collapsed": true,
    "ExecuteTime": {
     "end_time": "2023-05-12T02:28:32.377033400Z",
     "start_time": "2023-05-12T02:28:14.704175100Z"
    }
   },
   "outputs": [],
   "source": [
    "import torch\n",
    "from torch import nn\n",
    "from d2l import torch as d2l\n",
    "\n",
    "batch_size = 256\n",
    "train_iter, test_iter = d2l.load_data_fashion_mnist(batch_size)"
   ]
  },
  {
   "cell_type": "markdown",
   "source": [
    "## 1. 初始化模型参数\n",
    "输入：原始数据集中的每个样本都是 $28*28$ 的图像。 本节将展平每个图像，把它们看作长度为 $784$ 的向量。\n",
    "输出：数据集有10个类别，所以网络输出维度为10。\n",
    "权重：用正态分布初始化.权重将构成一个 $784*10$ 的矩阵\n",
    "偏置：全 0 初始化,偏置将构成一个 $1*10$ 的行向量"
   ],
   "metadata": {
    "collapsed": false
   }
  },
  {
   "cell_type": "code",
   "execution_count": 2,
   "outputs": [],
   "source": [
    "num_inputs = 784\n",
    "num_outputs = 10\n",
    "\n",
    "W = torch.normal(0, 0.01, size=(num_inputs, num_outputs), requires_grad=True)\n",
    "b = torch.zeros(num_outputs, requires_grad=True)"
   ],
   "metadata": {
    "collapsed": false,
    "ExecuteTime": {
     "end_time": "2023-05-12T02:33:46.855604600Z",
     "start_time": "2023-05-12T02:33:46.810608200Z"
    }
   }
  },
  {
   "cell_type": "markdown",
   "source": [
    "## 2. 定义softmax操作\n",
    " softmax 可以确保概率和 = 1"
   ],
   "metadata": {
    "collapsed": false
   }
  },
  {
   "cell_type": "code",
   "execution_count": 4,
   "outputs": [],
   "source": [
    "# 回顾 sum() :\n",
    "#   dim=0,上下挤压\n",
    "#   dim=1,左右挤压\n",
    "\n",
    "def softmax(X):\n",
    "    X_exp = torch.exp(X)  # 对 Tensor 中的每个项求幂（即 x->e^x）\n",
    "    partition = X_exp.sum(1, keepdim=True)  # 求每一行的和（小批量中每个样本是一行），得到每个样本的规范化常数；\n",
    "    return X_exp / partition  # 将每一行除以其规范化常数，确保结果的和为1。这里应用了广播机制"
   ],
   "metadata": {
    "collapsed": false,
    "ExecuteTime": {
     "end_time": "2023-05-12T02:45:47.151731500Z",
     "start_time": "2023-05-12T02:45:47.029738100Z"
    }
   }
  },
  {
   "cell_type": "markdown",
   "source": [
    "测试上面的 softmax 函数"
   ],
   "metadata": {
    "collapsed": false
   }
  },
  {
   "cell_type": "code",
   "execution_count": 5,
   "outputs": [
    {
     "data": {
      "text/plain": "(tensor([[-0.3800, -0.8959, -1.9992, -0.1317,  1.1706],\n         [-1.0616, -0.6667, -0.4951,  0.5617,  0.3676]]),\n tensor([[0.1283, 0.0766, 0.0254, 0.1645, 0.6051],\n         [0.0741, 0.1100, 0.1306, 0.3758, 0.3095]]),\n tensor([1.0000, 1.0000]))"
     },
     "execution_count": 5,
     "metadata": {},
     "output_type": "execute_result"
    }
   ],
   "source": [
    "X = torch.normal(0, 1, (2, 5))\n",
    "X_prob = softmax(X)\n",
    "X,X_prob, X_prob.sum(1)"
   ],
   "metadata": {
    "collapsed": false,
    "ExecuteTime": {
     "end_time": "2023-05-12T02:45:49.003381500Z",
     "start_time": "2023-05-12T02:45:48.887384400Z"
    }
   }
  },
  {
   "cell_type": "markdown",
   "source": [
    "## 3.定义模型\n",
    "注意， 将数据传递到模型之前，我们使用reshape函数将每张原始图像（28\\*28）展平为向量（1\\*784）。"
   ],
   "metadata": {
    "collapsed": false
   }
  },
  {
   "cell_type": "code",
   "execution_count": 6,
   "outputs": [],
   "source": [
    "def net(X):\n",
    "    # torch.matmul(X,W):  [1,784] * [784,10] -> [1,10]\n",
    "    # torch.matmul() + b: [1,10] + [1,10]\n",
    "    return softmax(torch.matmul(X.reshape((-1, W.shape[0])), W) + b)"
   ],
   "metadata": {
    "collapsed": false,
    "ExecuteTime": {
     "end_time": "2023-05-12T02:53:22.162131600Z",
     "start_time": "2023-05-12T02:53:22.043136Z"
    }
   }
  },
  {
   "cell_type": "markdown",
   "source": [
    "## 4.定义损失函数\n",
    "交叉熵损失函数，这可能是深度学习中最常见的损失函数。"
   ],
   "metadata": {
    "collapsed": false
   }
  },
  {
   "cell_type": "code",
   "execution_count": 7,
   "outputs": [
    {
     "data": {
      "text/plain": "tensor([2.3026, 0.6931])"
     },
     "execution_count": 7,
     "metadata": {},
     "output_type": "execute_result"
    }
   ],
   "source": [
    "y = torch.tensor([0, 2])\n",
    "y_hat = torch.tensor([[0.1, 0.3, 0.6], [0.3, 0.2, 0.5]])\n",
    "\n",
    "# 索引数组要比 Python for 循环来得高效\n",
    "def cross_entropy(y_hat, y):\n",
    "    return - torch.log(y_hat[range(len(y_hat)), y]) # 索引数组.range(len(y_hat))表示遍历每一行, y表示指定列\n",
    "\n",
    "cross_entropy(y_hat, y)"
   ],
   "metadata": {
    "collapsed": false,
    "ExecuteTime": {
     "end_time": "2023-05-12T02:59:51.104254100Z",
     "start_time": "2023-05-12T02:59:50.991251600Z"
    }
   }
  },
  {
   "cell_type": "markdown",
   "source": [
    "## 5. 分类精度\n",
    "做分类时可能在内部估计概率，但最终必须在类别中选择一个。\n",
    "首先，如果 `y_hat` 是矩阵，那么假定第二个维度(每一列)存储每个类的预测分数。\n",
    "我们使用 `argmax` 获得每行中最大元素的索引来获得预测类别。\n",
    "然后将预测类别与真实y元素进行比较。\n",
    "由于等式运算符“==”对数据类型很敏感， 因此我们将 `y_hat` 的数据类型转换为与 `y` 的数据类型一致。 结果是一个包含0（错）和1（对）的张量。 最后，我们求和会得到正确预测的数量。"
   ],
   "metadata": {
    "collapsed": false
   }
  },
  {
   "cell_type": "code",
   "execution_count": 8,
   "outputs": [],
   "source": [
    "def accuracy(y_hat, y):\n",
    "    if len(y_hat.shape)>1 and y_hat.shape[1]>1:\n",
    "        y_hat = y_hat.argmax(axis=1)\n",
    "    cmp = y_hat.type(y.dtype) == y\n",
    "    return float(cmp.type(y.dtype).sum())"
   ],
   "metadata": {
    "collapsed": false,
    "ExecuteTime": {
     "end_time": "2023-05-12T03:06:07.566115100Z",
     "start_time": "2023-05-12T03:06:07.465115900Z"
    }
   }
  },
  {
   "cell_type": "code",
   "execution_count": 9,
   "outputs": [
    {
     "data": {
      "text/plain": "0.5"
     },
     "execution_count": 9,
     "metadata": {},
     "output_type": "execute_result"
    }
   ],
   "source": [
    "accuracy(y_hat, y) / len(y)"
   ],
   "metadata": {
    "collapsed": false,
    "ExecuteTime": {
     "end_time": "2023-05-12T03:06:44.558602100Z",
     "start_time": "2023-05-12T03:06:44.420605700Z"
    }
   }
  },
  {
   "cell_type": "markdown",
   "source": [
    "##  6. 训练"
   ],
   "metadata": {
    "collapsed": false
   }
  },
  {
   "cell_type": "markdown",
   "source": [
    "## 7. 预测"
   ],
   "metadata": {
    "collapsed": false
   }
  }
 ],
 "metadata": {
  "kernelspec": {
   "display_name": "Python 3",
   "language": "python",
   "name": "python3"
  },
  "language_info": {
   "codemirror_mode": {
    "name": "ipython",
    "version": 2
   },
   "file_extension": ".py",
   "mimetype": "text/x-python",
   "name": "python",
   "nbconvert_exporter": "python",
   "pygments_lexer": "ipython2",
   "version": "2.7.6"
  }
 },
 "nbformat": 4,
 "nbformat_minor": 0
}
