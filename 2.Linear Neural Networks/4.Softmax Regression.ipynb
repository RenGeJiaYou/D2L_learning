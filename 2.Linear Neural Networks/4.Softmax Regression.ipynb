{
 "cells": [
  {
   "cell_type": "markdown",
   "source": [
    "回归可以用于预测多少的问题。 比如预测房屋被售出价格，或者棒球队可能获得的胜场数，又或者患者住院的天数。\n",
    "事实上，我们也对分类问题感兴趣：不是问“多少”，而是问“哪一个”：\n",
    "\n",
    "- 某个电子邮件是否属于垃圾邮件文件夹？\n",
    "\n",
    "- 某个用户可能注册或不注册订阅服务？\n",
    "\n",
    "- 某个图像描绘的是驴、狗、猫、还是鸡？\n",
    "\n",
    "- 某人接下来最有可能看哪部电影？\n",
    "\n",
    "分类和回归的区别在于：\n",
    "`分类`类别间不存在某种自然顺序。如 [武侠片，动作片，喜剧片，爱情片]\n",
    "`回归`类别间存在某种自然顺序，如 [少年，青年，中年，老年]\n"
   ],
   "metadata": {
    "collapsed": false
   }
  },
  {
   "cell_type": "markdown",
   "source": [
    "## 1.分类问题\n",
    "本例中从一个图像分类问题开始。 假设每次输入是一个$2*2$的灰度图像。\n",
    "我们可以用一个标量表示每个像素值，每个图像对应四个特征\n",
    "。 此外，假设每个图像属于类别“猫”“鸡”和“狗”中的一个。\n",
    "使用 `独热编码` 表示不同的类别。独热编码是一个向量，分量和类别数一样多。类别对应的分量设置为1，其他所有分量设置为0。\n",
    "如\n",
    "- 猫:(1,0,0)\n",
    "- 鸡:(0,1,0)\n",
    "- 狗:(0,0,1)\n",
    "\n",
    "\n",
    "$ y \\in {(1,0,0),(0,1,0),(0,0,1)}$"
   ],
   "metadata": {
    "collapsed": false
   }
  },
  {
   "cell_type": "markdown",
   "source": [
    "## 2.网络架构\n",
    "网络要有多个输出，一个类别对应一个输出。每个输出对应一个*仿射函数（affine function）*\n",
    "\n",
    "我们有 4 个特征和 3 个可能的输出类别，就需要 12 个标量来表示权重（$w_i$）\n",
    "\n",
    "`softmax` 是单层神经网络，其输出层是全连接层。"
   ],
   "metadata": {
    "collapsed": false
   }
  },
  {
   "cell_type": "markdown",
   "source": [
    "## 3. 全连接层的参数开销\n",
    "有 $a$ 个输入和 $b$ 个输出，就得有 $a*b$ 个参数,开销为 $O(a*b)$\n",
    "可以设定超参数 $n$ 降低为 $O(\\frac {a*b}{n})$"
   ],
   "metadata": {
    "collapsed": false
   }
  },
  {
   "cell_type": "markdown",
   "source": [
    "## 4. softmax运算\n",
    "\n",
    "## 5. 小批量样本的矢量化"
   ],
   "metadata": {
    "collapsed": false
   }
  },
  {
   "cell_type": "code",
   "execution_count": null,
   "metadata": {
    "collapsed": true
   },
   "outputs": [],
   "source": []
  }
 ],
 "metadata": {
  "kernelspec": {
   "display_name": "Python 3",
   "language": "python",
   "name": "python3"
  },
  "language_info": {
   "codemirror_mode": {
    "name": "ipython",
    "version": 2
   },
   "file_extension": ".py",
   "mimetype": "text/x-python",
   "name": "python",
   "nbconvert_exporter": "python",
   "pygments_lexer": "ipython2",
   "version": "2.7.6"
  }
 },
 "nbformat": 4,
 "nbformat_minor": 0
}
