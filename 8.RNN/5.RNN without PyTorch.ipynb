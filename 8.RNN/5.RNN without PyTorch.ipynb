{
 "cells": [
  {
   "cell_type": "markdown",
   "source": [
    "## 一、RNN 无框架实现\n",
    "符号沿用上一章，\n",
    "n:  批量大小\n",
    "d:  输入数据维度\n",
    "h:  隐藏层单元数\n",
    "q:  输出数据维度"
   ],
   "metadata": {
    "collapsed": false
   }
  },
  {
   "cell_type": "code",
   "execution_count": 9,
   "metadata": {
    "collapsed": true,
    "ExecuteTime": {
     "end_time": "2023-06-21T12:44:53.258060100Z",
     "start_time": "2023-06-21T12:44:52.771067300Z"
    }
   },
   "outputs": [
    {
     "data": {
      "text/plain": "28"
     },
     "execution_count": 9,
     "metadata": {},
     "output_type": "execute_result"
    }
   ],
   "source": [
    "import torch\n",
    "from torch import nn\n",
    "from torch.nn import functional as F\n",
    "from d2l import torch as d2l\n",
    "\n",
    "batch_size, num_steps = 32, 35  # 32，35 没有太多含义，总得有个值\n",
    "train_iter, vocab = d2l.load_data_time_machine(batch_size, num_steps)\n",
    "len(vocab)"
   ]
  },
  {
   "cell_type": "markdown",
   "source": [
    "### 1.独热编码\n",
    "F.one_hot() 将一个张量中的每一个数值变成一个[0,...,1,0,0]的独热编码，其长度=字典的长度\n",
    "显然，对输入的张量升了 1 维。"
   ],
   "metadata": {
    "collapsed": false
   }
  },
  {
   "cell_type": "code",
   "execution_count": 10,
   "outputs": [
    {
     "data": {
      "text/plain": "tensor([[1, 0, 0, 0, 0, 0, 0, 0, 0, 0, 0, 0, 0, 0, 0, 0, 0, 0, 0, 0, 0, 0, 0, 0,\n         0, 0, 0, 0],\n        [0, 0, 1, 0, 0, 0, 0, 0, 0, 0, 0, 0, 0, 0, 0, 0, 0, 0, 0, 0, 0, 0, 0, 0,\n         0, 0, 0, 0]])"
     },
     "execution_count": 10,
     "metadata": {},
     "output_type": "execute_result"
    }
   ],
   "source": [
    "F.one_hot(torch.tensor([0, 2]), len(vocab))"
   ],
   "metadata": {
    "collapsed": false,
    "ExecuteTime": {
     "end_time": "2023-06-21T12:44:53.260058400Z",
     "start_time": "2023-06-21T12:44:53.078060200Z"
    }
   }
  },
  {
   "cell_type": "markdown",
   "source": [
    " one_hot函数将小批量数据（二维张量：（批量大小，时间步数））转换成三维张量， 张量的最后一个维度等于词表大小（len(vocab)）。"
   ],
   "metadata": {
    "collapsed": false
   }
  },
  {
   "cell_type": "code",
   "execution_count": 11,
   "outputs": [
    {
     "data": {
      "text/plain": "torch.Size([5, 2, 28])"
     },
     "execution_count": 11,
     "metadata": {},
     "output_type": "execute_result"
    }
   ],
   "source": [
    "# 转置矩阵的目的是实现连续性（不太理解，原话见https://www.bilibili.com/video/BV1kq4y1H7sw/?spm_id_from=333.999.0.0&vd_source=46af8e25a61e33c10249cebb913791e3  05:57）\n",
    "X = torch.arange(10).reshape((2, 5))\n",
    "F.one_hot(X.T, 28).shape"
   ],
   "metadata": {
    "collapsed": false,
    "ExecuteTime": {
     "end_time": "2023-06-21T12:44:53.262058700Z",
     "start_time": "2023-06-21T12:44:53.105059500Z"
    }
   }
  },
  {
   "cell_type": "markdown",
   "source": [
    "### 2.初始化参数\n",
    "输入和输出具有相同的维度，即词表的大小。"
   ],
   "metadata": {
    "collapsed": false
   }
  },
  {
   "cell_type": "code",
   "execution_count": 12,
   "outputs": [],
   "source": [
    "# 词表大小，隐藏层单元数，GPU地址\n",
    "def get_params(vocab_size, num_hiddens, device):\n",
    "    # 此处设置 d = q = vocab_size\n",
    "    num_inputs = num_outputs = vocab_size\n",
    "\n",
    "    # 初始化函数,创建大小为 shape,值服从正态随机分布的 torch\n",
    "    def normal(shape):\n",
    "        return torch.randn(size=shape, device=device) * 0.01\n",
    "\n",
    "    # 隐藏层参数\n",
    "    W_xh = normal((num_inputs, num_hiddens))        # d * h\n",
    "    W_hh = normal((num_hiddens, num_hiddens))       # h * h\n",
    "    b_h = torch.zeros(num_hiddens, device=device)   # 1 * h\n",
    "    # 输出层参数\n",
    "    W_hq = normal((num_hiddens, num_outputs))       # h * q\n",
    "    b_q = torch.zeros(num_outputs, device=device)   # 1 * q\n",
    "    # 附加梯度\n",
    "    params = [W_xh, W_hh, b_h, W_hq, b_q]\n",
    "    for param in params:\n",
    "        param.requires_grad_(True)\n",
    "    return params"
   ],
   "metadata": {
    "collapsed": false,
    "ExecuteTime": {
     "end_time": "2023-06-21T12:44:53.262058700Z",
     "start_time": "2023-06-21T12:44:53.146065Z"
    }
   }
  },
  {
   "cell_type": "markdown",
   "source": [
    "### 3.初始化隐藏状态\n",
    "为了定义循环神经网络模型， 我们首先需要一个`init_rnn_state`函数在初始化时返回隐藏状态。\n",
    "这个函数的返回是一个张量，张量全用 0 填充，\n",
    "形状为（批量大小，隐藏单元数）。"
   ],
   "metadata": {
    "collapsed": false
   }
  },
  {
   "cell_type": "code",
   "execution_count": 13,
   "outputs": [],
   "source": [
    "def init_rnn_state(batch_size, num_hiddens, device):\n",
    "    # 此时的 RNN 的确只需要1个参数,但后续的 LSTM 需要2个，在此处写成长度为 2 的 tuple 是为了保持代码形式一致\n",
    "    return (torch.zeros((batch_size, num_hiddens), device=device), )"
   ],
   "metadata": {
    "collapsed": false,
    "ExecuteTime": {
     "end_time": "2023-06-21T12:44:53.303060900Z",
     "start_time": "2023-06-21T12:44:53.180056800Z"
    }
   }
  },
  {
   "cell_type": "markdown",
   "source": [
    "### 4. 循环神经网络模型"
   ],
   "metadata": {
    "collapsed": false
   }
  },
  {
   "cell_type": "code",
   "execution_count": 14,
   "outputs": [],
   "source": [
    "# inputs的形状：(时间步数量，批量大小，词表大小)\n",
    "def rnn(inputs, state, params):\n",
    "    W_xh, W_hh, b_h, W_hq, b_q = params\n",
    "    H, = state  # 初始化隐藏矩阵\n",
    "    outputs = []\n",
    "    # X的形状：(批量大小，词表大小)\n",
    "    for X in inputs:\n",
    "        H = torch.tanh(torch.mm(X, W_xh) + torch.mm(H, W_hh) + b_h)  # 每一步 H 都考虑上一步 H\n",
    "        Y = torch.mm(H, W_hq) + b_q\n",
    "        outputs.append(Y)   # outputs 保存每个时刻的输出\n",
    "\n",
    "    # output 竖直堆叠，列数不变，行数增加\n",
    "    return torch.cat(outputs, dim=0), (H,)"
   ],
   "metadata": {
    "collapsed": false,
    "ExecuteTime": {
     "end_time": "2023-06-21T12:44:53.305059800Z",
     "start_time": "2023-06-21T12:44:53.207060300Z"
    }
   }
  },
  {
   "cell_type": "markdown",
   "source": [
    "使用一个类来包装这些函数"
   ],
   "metadata": {
    "collapsed": false
   }
  },
  {
   "cell_type": "code",
   "execution_count": 15,
   "outputs": [],
   "source": [
    "class RNNModelScratch: #@save\n",
    "    \"\"\"从零开始实现的循环神经网络模型\"\"\"\n",
    "    def __init__(self, vocab_size, num_hiddens, device,\n",
    "                 get_params, init_state, forward_fn):\n",
    "        self.vocab_size, self.num_hiddens = vocab_size, num_hiddens\n",
    "        self.params = get_params(vocab_size, num_hiddens, device)\n",
    "        self.init_state, self.forward_fn = init_state, forward_fn\n",
    "\n",
    "    def __call__(self, X, state):\n",
    "        X = F.one_hot(X.T, self.vocab_size).type(torch.float32)\n",
    "        return self.forward_fn(X, state, self.params)\n",
    "\n",
    "    def begin_state(self, batch_size, device):\n",
    "        return self.init_state(batch_size, self.num_hiddens, device)"
   ],
   "metadata": {
    "collapsed": false,
    "ExecuteTime": {
     "end_time": "2023-06-21T12:44:53.438096800Z",
     "start_time": "2023-06-21T12:44:53.238061Z"
    }
   }
  },
  {
   "cell_type": "code",
   "execution_count": 16,
   "outputs": [
    {
     "data": {
      "text/plain": "(torch.Size([10, 28]), 1, torch.Size([2, 512]))"
     },
     "execution_count": 16,
     "metadata": {},
     "output_type": "execute_result"
    }
   ],
   "source": [
    "num_hiddens = 512\n",
    "net = RNNModelScratch(len(vocab), num_hiddens, d2l.try_gpu(), get_params,\n",
    "                      init_rnn_state, rnn)\n",
    "state = net.begin_state(X.shape[0], d2l.try_gpu())\n",
    "Y, new_state = net(X.to(d2l.try_gpu()), state)\n",
    "Y.shape, len(new_state), new_state[0].shape"
   ],
   "metadata": {
    "collapsed": false,
    "ExecuteTime": {
     "end_time": "2023-06-21T12:45:06.194131300Z",
     "start_time": "2023-06-21T12:44:57.139008900Z"
    }
   }
  },
  {
   "cell_type": "markdown",
   "source": [
    "[10,28]的尺寸表示一个 batch 内的2条 * 5个单词，词表长度为28；值表示这 10 个词预测的下一个词（词典中的某一个）\n",
    "new_state 是一个长度=1的tuple\n",
    "new_state[0].shape 表示(批量大小,隐藏层单元数)"
   ],
   "metadata": {
    "collapsed": false
   }
  },
  {
   "cell_type": "markdown",
   "source": [
    "### 4. 预测"
   ],
   "metadata": {
    "collapsed": false
   }
  },
  {
   "cell_type": "code",
   "execution_count": null,
   "outputs": [],
   "source": [
    "# prefix:       给定句子开头，用于生成后续的句子\n",
    "# num_preds:    要求生成多少个词\n",
    "# vocab:        把预测值（数字）转换为文本（单词）\n",
    "def predict_ch8(prefix, num_preds, net, vocab, device):  #@save\n",
    "    \"\"\"在prefix后面生成新字符\"\"\"\n",
    "    state = net.begin_state(batch_size=1, device=device) # batch_size=1 表示对一个字符串做预测\n",
    "    outputs = [vocab[prefix[0]]]    # 把单词在词表中的 index 存到 outputs\n",
    "    get_input = lambda: torch.tensor([outputs[-1]], device=device).reshape((1, 1))# 把上一次最近预测到的词作为输入\n",
    "\n",
    "    for y in prefix[1:]:  # 预热期\n",
    "        _, state = net(get_input(), state)\n",
    "        outputs.append(vocab[y])\n",
    "    for _ in range(num_preds):  # 预测num_preds步\n",
    "        y, state = net(get_input(), state)\n",
    "        outputs.append(int(y.argmax(dim=1).reshape(1)))\n",
    "    return ''.join([vocab.idx_to_token[i] for i in outputs])"
   ],
   "metadata": {
    "collapsed": false
   }
  },
  {
   "cell_type": "markdown",
   "source": [
    "### 5. 梯度裁剪\n",
    "### 6. 训练ddd"
   ],
   "metadata": {
    "collapsed": false
   }
  }
 ],
 "metadata": {
  "kernelspec": {
   "display_name": "Python 3",
   "language": "python",
   "name": "python3"
  },
  "language_info": {
   "codemirror_mode": {
    "name": "ipython",
    "version": 2
   },
   "file_extension": ".py",
   "mimetype": "text/x-python",
   "name": "python",
   "nbconvert_exporter": "python",
   "pygments_lexer": "ipython2",
   "version": "2.7.6"
  }
 },
 "nbformat": 4,
 "nbformat_minor": 0
}
