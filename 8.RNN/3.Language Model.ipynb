{
 "cells": [
  {
   "cell_type": "markdown",
   "source": [
    "## 1. 学习语言模型\n",
    "### (1) 基本概率规则：\n",
    "例如，包含了四个单词的一个文本序列的概率是：\n",
    "> $P(deep,learning,is,fun) = P(deep) * P(learning|deep) * P(is|deep,learning) * P(fun|deep,learning,is)$\n",
    "为了训练语言模型，我们需要计算单词的*概率*，以及给定前面几个单词后出现某个单词的*条件概率*。\n",
    "换言之，**这些概率就是语言模型的参数**。\n",
    "\n",
    "### (2)估计上述公式中的每个乘项\n",
    "#### 1) $\\hat{P}(deep)$\n",
    "在一个语料中估计单词 \"deep\" 的词频$\\hat{P}(deep)$，有两种方法：\n",
    "- 计算为任何以单词“deep”开头的句子的概率。\n",
    "- （稍稍不太精确的）统计单词“deep”在数据集中的出现次数， 然后将其除以整个语料库中的单词总数。\n",
    "\n",
    "#### 2) $\\hat{P}(learning|deep)$\n",
    "> $ \\hat{P}(learning|deep) = \\frac{n(deep,learning)}{n(deep)}$\n",
    "其中,\n",
    "> $n(deep)$ 表示单词 \"deep\" 在语料库出现的次数，$n(deep,learning)$ 表示词组 \"deep learning\" 的次数\n",
    "\n",
    "问题是"
   ],
   "metadata": {
    "collapsed": false
   }
  },
  {
   "cell_type": "code",
   "execution_count": null,
   "outputs": [],
   "source": [],
   "metadata": {
    "collapsed": false
   }
  },
  {
   "cell_type": "markdown",
   "source": [
    "## 2. 马尔可夫模型与 n 元语法"
   ],
   "metadata": {
    "collapsed": false
   }
  },
  {
   "cell_type": "markdown",
   "source": [
    "## 3. 自然语言统计"
   ],
   "metadata": {
    "collapsed": false
   }
  },
  {
   "cell_type": "markdown",
   "source": [
    "## 4. 读取长序列数据\n",
    "### (1) 随机采样"
   ],
   "metadata": {
    "collapsed": false
   }
  },
  {
   "cell_type": "markdown",
   "source": [
    "## (2) 顺序分区"
   ],
   "metadata": {
    "collapsed": false
   }
  }
 ],
 "metadata": {
  "kernelspec": {
   "display_name": "Python 3",
   "language": "python",
   "name": "python3"
  },
  "language_info": {
   "codemirror_mode": {
    "name": "ipython",
    "version": 2
   },
   "file_extension": ".py",
   "mimetype": "text/x-python",
   "name": "python",
   "nbconvert_exporter": "python",
   "pygments_lexer": "ipython2",
   "version": "2.7.6"
  }
 },
 "nbformat": 4,
 "nbformat_minor": 0
}
