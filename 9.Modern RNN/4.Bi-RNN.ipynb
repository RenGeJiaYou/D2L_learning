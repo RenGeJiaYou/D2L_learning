{
 "cells": [
  {
   "cell_type": "markdown",
   "source": [
    "# 双向循环神经网络\n",
    "\n",
    "设置两个 rnn 隐藏层，一个前向，一个反向。\n",
    "前向隐藏层的 $\\overrightarrow{H_t}$ 取决于 $X_t$ 和 $\\overrightarrow{H}_{t-1}$\n",
    "后向隐藏层的 $\\overleftarrow{H_t}$ 取决于 $X_t$ 和 $\\overleftarrow{H}_{t+1}$\n",
    "具体公式如下：\n",
    "$$\\overrightarrow{H_t} = \\sigma(X_tW_{xh}^{(f)} + \\overrightarrow{H}_{t-1}W_{hh}^{(f)} + b_h^{(f)})$$\n",
    "$$\\overleftarrow{H_t} = \\sigma(X_tW_{xh}^{(b)} + \\overleftarrow{H}_{t+1}W_{hh}^{(b)} + b_h^{(b)})$$\n",
    "\n",
    "最终的 $H_t$ 是前后向两个 H 的 concat:\n",
    "$$H = [\\overrightarrow{H_t},\\overleftarrow{H_t}]$$\n",
    "$$O_t = H_tW_{hq} + b_q$$\n",
    "\n",
    "因为 $\\overrightarrow{H_t}$ 要与后续计算的 $\\overleftarrow{H_t}$ 一一对应，因此会有 $H_1,\\dots,H_T$ 共 $T$ 个隐状态同时存在。\n",
    "\n",
    "> 原话：Bi-LSTM 不适合做推理，预测未来的性能较差。\n",
    "通常用来对序列抽取特征、填空，而不是预测未来"
   ],
   "metadata": {
    "collapsed": false
   }
  },
  {
   "cell_type": "code",
   "execution_count": null,
   "metadata": {
    "collapsed": true
   },
   "outputs": [],
   "source": [
    "# 并未给出具体代码"
   ]
  }
 ],
 "metadata": {
  "kernelspec": {
   "display_name": "Python 3",
   "language": "python",
   "name": "python3"
  },
  "language_info": {
   "codemirror_mode": {
    "name": "ipython",
    "version": 2
   },
   "file_extension": ".py",
   "mimetype": "text/x-python",
   "name": "python",
   "nbconvert_exporter": "python",
   "pygments_lexer": "ipython2",
   "version": "2.7.6"
  }
 },
 "nbformat": 4,
 "nbformat_minor": 0
}
