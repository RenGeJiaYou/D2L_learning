{
 "cells": [
  {
   "cell_type": "markdown",
   "source": [
    "RNN 中的矩阵连乘可能会带来梯度消失或爆炸的问题，这种**梯度异常**可能导致：\n",
    "- 早期观测值对预测所有未来观测值具有非常重要的意义。有时第一个词元的影响至关重要，希望能有某些机制能够在一个记忆元里**存储**重要的早期信息。\n",
    "- 一些 token 没有相应的观察值，比如对网页内容进行情感分析时，HTML代码并没有什么用处。希望有一些机制来**跳过**隐状态表示中的此类词元。\n",
    "- 书的各章之间内容是独立的，扫描到下一章时希望能清空上一章保存的状态。最好有一种方法来**重置**我们的内部状态表示。\n",
    "\n",
    "# 1. 门控隐状态\n",
    "\n",
    "GRU 和 普通 RNN 的区别在于：有专门的机制来确定应该何时更新隐状态，以及应该何时重置隐状态。这些机制是可学习的，\n",
    "同样，模型也可以学会**跳过**不相关的临时观测。 最后，模型还将学会在需要的时候**重置**隐状态。"
   ],
   "metadata": {
    "collapsed": false
   }
  },
  {
   "cell_type": "markdown",
   "source": [
    "### (1) 重置门（reset gate）和更新门（update gate）"
   ],
   "metadata": {
    "collapsed": false
   }
  },
  {
   "cell_type": "code",
   "execution_count": null,
   "metadata": {
    "collapsed": true
   },
   "outputs": [],
   "source": []
  }
 ],
 "metadata": {
  "kernelspec": {
   "display_name": "Python 3",
   "language": "python",
   "name": "python3"
  },
  "language_info": {
   "codemirror_mode": {
    "name": "ipython",
    "version": 2
   },
   "file_extension": ".py",
   "mimetype": "text/x-python",
   "name": "python",
   "nbconvert_exporter": "python",
   "pygments_lexer": "ipython2",
   "version": "2.7.6"
  }
 },
 "nbformat": 4,
 "nbformat_minor": 0
}
