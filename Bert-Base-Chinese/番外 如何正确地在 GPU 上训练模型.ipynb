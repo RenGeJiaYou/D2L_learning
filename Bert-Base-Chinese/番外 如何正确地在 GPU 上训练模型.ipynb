{
 "cells": [
  {
   "cell_type": "markdown",
   "source": [
    "## 为什么要有这个番外\n",
    "修改开源代码（仅在CPU）执行时，希望能全挪到 GPU 上加速。\n",
    "这里面也有门道的，PyTorch 要求输入数据与模型（所维护的参数）都要放在同一个 GPU 上，\n",
    "否则就报错：\n",
    "> RuntimeError: Expected all tensors to be on the same device, but found at least two devices, cuda:0 and cpu! (when checking argument for argument mat1 in method wrapper_addmm)"
   ],
   "metadata": {
    "collapsed": false
   }
  },
  {
   "cell_type": "code",
   "execution_count": 5,
   "metadata": {
    "collapsed": true,
    "ExecuteTime": {
     "end_time": "2023-07-15T12:57:09.815619600Z",
     "start_time": "2023-07-15T12:57:09.759572200Z"
    }
   },
   "outputs": [],
   "source": [
    "import time\n",
    "\n",
    "import torch\n",
    "from torch import nn"
   ]
  },
  {
   "cell_type": "markdown",
   "source": [
    "### 1.数据通过 torch.Tensor.cuda() 放到GPU 上\n",
    "\n",
    "#### 注意点\n",
    "1. 如果定义了 `DataLoader`，返回的数据时应当是 `.to(device)` 后的\n",
    "2. 如果定义 `DataLoader` 时声明了 `collate_fn` ， `.to(device)`操作应当放在 `collate_fn` 内"
   ],
   "metadata": {
    "collapsed": false
   }
  },
  {
   "cell_type": "code",
   "execution_count": 8,
   "outputs": [
    {
     "name": "stdout",
     "output_type": "stream",
     "text": [
      "torch.cuda.is_available()= True\n"
     ]
    }
   ],
   "source": [
    "# 准备数据\n",
    "n = 2 << 10  # 样本数量\n",
    "\n",
    "X = 10 * torch.rand([n, 2]) - 5.0  # torch.rand是均匀分布\n",
    "w0 = torch.tensor([[2.0, -3.0]])\n",
    "b0 = torch.tensor([[10.0]])\n",
    "Y = X @ w0.t() + b0 + torch.normal(0.0, 2.0, size=[n, 1])  # @表示矩阵乘法，增加正态扰动\n",
    "\n",
    "# 移动到GPU上\n",
    "print('torch.cuda.is_available()=', torch.cuda.is_available())\n",
    "X = X.cuda() # 转移到GPU\n",
    "Y = Y.cuda()"
   ],
   "metadata": {
    "collapsed": false,
    "ExecuteTime": {
     "end_time": "2023-07-15T12:57:51.836017900Z",
     "start_time": "2023-07-15T12:57:51.723022700Z"
    }
   }
  },
  {
   "cell_type": "markdown",
   "source": [
    "## 2. 模型实例用 torch.nn.Module.to() 搬运到 GPU\n",
    "\n",
    "#### 注意点\n",
    "1. 如果存在 sub 模型和下游模型，sub 模型实例和下游模型实例都要执行`.to(device)`操作\n"
   ],
   "metadata": {
    "collapsed": false
   }
  },
  {
   "cell_type": "code",
   "execution_count": 9,
   "outputs": [
    {
     "data": {
      "text/plain": "LinearRegression()"
     },
     "execution_count": 9,
     "metadata": {},
     "output_type": "execute_result"
    }
   ],
   "source": [
    "# 定义模型\n",
    "class LinearRegression(nn.Module):\n",
    "    def __init__(self):\n",
    "        super().__init__()\n",
    "        self.w = nn.Parameter(torch.randn_like(w0))\n",
    "        self.b = nn.Parameter(torch.zeros_like(b0))\n",
    "\n",
    "    # 正向传播\n",
    "    def forward(self, x):\n",
    "        return x @ self.w.t() + self.b\n",
    "\n",
    "\n",
    "linear = LinearRegression()\n",
    "\n",
    "# 移动模型到GPU上\n",
    "device = torch.device('cuda:0' if torch.cuda.is_available() else 'cpu')\n",
    "linear.to(device)"
   ],
   "metadata": {
    "collapsed": false,
    "ExecuteTime": {
     "end_time": "2023-07-15T12:57:56.672780400Z",
     "start_time": "2023-07-15T12:57:56.451794400Z"
    }
   }
  },
  {
   "cell_type": "markdown",
   "source": [
    "## 3.训练"
   ],
   "metadata": {
    "collapsed": false
   }
  },
  {
   "cell_type": "code",
   "execution_count": 10,
   "outputs": [
    {
     "name": "stdout",
     "output_type": "stream",
     "text": [
      "{'epoch': 0, 'loss': 225.893310546875}\n",
      "{'epoch': 50, 'loss': 33.50811004638672}\n",
      "{'epoch': 100, 'loss': 8.915048599243164}\n",
      "{'epoch': 150, 'loss': 4.357623100280762}\n",
      "{'epoch': 200, 'loss': 3.8925089836120605}\n",
      "{'epoch': 250, 'loss': 3.8690719604492188}\n",
      "{'epoch': 300, 'loss': 3.8685646057128906}\n",
      "{'epoch': 350, 'loss': 3.868561267852783}\n",
      "{'epoch': 400, 'loss': 3.868561267852783}\n",
      "{'epoch': 450, 'loss': 3.868561267852783}\n",
      "time used: 3.5719974040985107\n"
     ]
    }
   ],
   "source": [
    "optimizer = torch.optim.Adam(linear.parameters(), lr=0.1)\n",
    "l = nn.MSELoss()\n",
    "\n",
    "def train(epochs):\n",
    "    tic = time.time()\n",
    "    for epoch in range(epochs):\n",
    "        optimizer.zero_grad()\n",
    "        Y_pred = linear(X)\n",
    "        loss = l(Y_pred, Y)\n",
    "        loss.backward()\n",
    "        optimizer.step()\n",
    "        if epoch % 50 == 0:\n",
    "            print({'epoch': epoch, 'loss': loss.item()})\n",
    "    toc = time.time()\n",
    "    print('time used:', toc - tic)\n",
    "\n",
    "\n",
    "train(500)"
   ],
   "metadata": {
    "collapsed": false,
    "ExecuteTime": {
     "end_time": "2023-07-15T12:58:09.418278200Z",
     "start_time": "2023-07-15T12:58:05.831279600Z"
    }
   }
  },
  {
   "cell_type": "code",
   "execution_count": null,
   "outputs": [],
   "source": [],
   "metadata": {
    "collapsed": false
   }
  }
 ],
 "metadata": {
  "kernelspec": {
   "display_name": "Python 3",
   "language": "python",
   "name": "python3"
  },
  "language_info": {
   "codemirror_mode": {
    "name": "ipython",
    "version": 2
   },
   "file_extension": ".py",
   "mimetype": "text/x-python",
   "name": "python",
   "nbconvert_exporter": "python",
   "pygments_lexer": "ipython2",
   "version": "2.7.6"
  }
 },
 "nbformat": 4,
 "nbformat_minor": 0
}
