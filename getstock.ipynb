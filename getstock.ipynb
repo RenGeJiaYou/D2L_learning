{
 "cells": [
  {
   "cell_type": "code",
   "execution_count": 4,
   "outputs": [
    {
     "data": {
      "text/plain": "        date item   op_income\n0   20180731   27  11846851.0\n1   20180629   27  11665369.0\n2   20180531   27  13695121.0\n3   20180430   27  14520977.0\n4   20180331   27  15239863.0\n5   20180227   27  11617564.0\n6   20180131   27  15288546.0\n7   20171229   27  16268101.0\n8   20171130   27  16633125.0\n9   20171031   27  16935950.0\n10  20170930   27  17098538.0\n11  20170831   27  15922152.0\n12  20170731   27  14749543.0\n13  20170630   27  14889915.0\n14  20170531   27  14279514.0\n15  20170428   27  12516865.0\n16  20170331   27  14523890.0\n17  20170224   27  12890958.0\n18  20170124   27  13298319.0\n19  20161230   27  14898550.0\n20  20161130   27  13218786.0\n21  20161031   27  11368485.0\n22  20160930   27  10280845.0\n23  20160831   27  10559717.0\n24  20160729   27  14478596.0\n25  20160630   27  17407422.0\n26  20160531   27  18695511.0\n27  20160429   27  18560732.0\n28  20160331   27  19739049.0\n29  20160226   27  18244649.0",
      "text/html": "<div>\n<style scoped>\n    .dataframe tbody tr th:only-of-type {\n        vertical-align: middle;\n    }\n\n    .dataframe tbody tr th {\n        vertical-align: top;\n    }\n\n    .dataframe thead th {\n        text-align: right;\n    }\n</style>\n<table border=\"1\" class=\"dataframe\">\n  <thead>\n    <tr style=\"text-align: right;\">\n      <th></th>\n      <th>date</th>\n      <th>item</th>\n      <th>op_income</th>\n    </tr>\n  </thead>\n  <tbody>\n    <tr>\n      <th>0</th>\n      <td>20180731</td>\n      <td>27</td>\n      <td>11846851.0</td>\n    </tr>\n    <tr>\n      <th>1</th>\n      <td>20180629</td>\n      <td>27</td>\n      <td>11665369.0</td>\n    </tr>\n    <tr>\n      <th>2</th>\n      <td>20180531</td>\n      <td>27</td>\n      <td>13695121.0</td>\n    </tr>\n    <tr>\n      <th>3</th>\n      <td>20180430</td>\n      <td>27</td>\n      <td>14520977.0</td>\n    </tr>\n    <tr>\n      <th>4</th>\n      <td>20180331</td>\n      <td>27</td>\n      <td>15239863.0</td>\n    </tr>\n    <tr>\n      <th>5</th>\n      <td>20180227</td>\n      <td>27</td>\n      <td>11617564.0</td>\n    </tr>\n    <tr>\n      <th>6</th>\n      <td>20180131</td>\n      <td>27</td>\n      <td>15288546.0</td>\n    </tr>\n    <tr>\n      <th>7</th>\n      <td>20171229</td>\n      <td>27</td>\n      <td>16268101.0</td>\n    </tr>\n    <tr>\n      <th>8</th>\n      <td>20171130</td>\n      <td>27</td>\n      <td>16633125.0</td>\n    </tr>\n    <tr>\n      <th>9</th>\n      <td>20171031</td>\n      <td>27</td>\n      <td>16935950.0</td>\n    </tr>\n    <tr>\n      <th>10</th>\n      <td>20170930</td>\n      <td>27</td>\n      <td>17098538.0</td>\n    </tr>\n    <tr>\n      <th>11</th>\n      <td>20170831</td>\n      <td>27</td>\n      <td>15922152.0</td>\n    </tr>\n    <tr>\n      <th>12</th>\n      <td>20170731</td>\n      <td>27</td>\n      <td>14749543.0</td>\n    </tr>\n    <tr>\n      <th>13</th>\n      <td>20170630</td>\n      <td>27</td>\n      <td>14889915.0</td>\n    </tr>\n    <tr>\n      <th>14</th>\n      <td>20170531</td>\n      <td>27</td>\n      <td>14279514.0</td>\n    </tr>\n    <tr>\n      <th>15</th>\n      <td>20170428</td>\n      <td>27</td>\n      <td>12516865.0</td>\n    </tr>\n    <tr>\n      <th>16</th>\n      <td>20170331</td>\n      <td>27</td>\n      <td>14523890.0</td>\n    </tr>\n    <tr>\n      <th>17</th>\n      <td>20170224</td>\n      <td>27</td>\n      <td>12890958.0</td>\n    </tr>\n    <tr>\n      <th>18</th>\n      <td>20170124</td>\n      <td>27</td>\n      <td>13298319.0</td>\n    </tr>\n    <tr>\n      <th>19</th>\n      <td>20161230</td>\n      <td>27</td>\n      <td>14898550.0</td>\n    </tr>\n    <tr>\n      <th>20</th>\n      <td>20161130</td>\n      <td>27</td>\n      <td>13218786.0</td>\n    </tr>\n    <tr>\n      <th>21</th>\n      <td>20161031</td>\n      <td>27</td>\n      <td>11368485.0</td>\n    </tr>\n    <tr>\n      <th>22</th>\n      <td>20160930</td>\n      <td>27</td>\n      <td>10280845.0</td>\n    </tr>\n    <tr>\n      <th>23</th>\n      <td>20160831</td>\n      <td>27</td>\n      <td>10559717.0</td>\n    </tr>\n    <tr>\n      <th>24</th>\n      <td>20160729</td>\n      <td>27</td>\n      <td>14478596.0</td>\n    </tr>\n    <tr>\n      <th>25</th>\n      <td>20160630</td>\n      <td>27</td>\n      <td>17407422.0</td>\n    </tr>\n    <tr>\n      <th>26</th>\n      <td>20160531</td>\n      <td>27</td>\n      <td>18695511.0</td>\n    </tr>\n    <tr>\n      <th>27</th>\n      <td>20160429</td>\n      <td>27</td>\n      <td>18560732.0</td>\n    </tr>\n    <tr>\n      <th>28</th>\n      <td>20160331</td>\n      <td>27</td>\n      <td>19739049.0</td>\n    </tr>\n    <tr>\n      <th>29</th>\n      <td>20160226</td>\n      <td>27</td>\n      <td>18244649.0</td>\n    </tr>\n  </tbody>\n</table>\n</div>"
     },
     "execution_count": 4,
     "metadata": {},
     "output_type": "execute_result"
    }
   ],
   "source": [
    "import tushare as ts\n",
    "ts.set_token('573e0e33bb1b9ccd33334d5a393c06d0279193c034d7f49143bec0f6')\n",
    "\n",
    "pro = ts.pro_api()\n",
    "\n",
    "df = pro.tmt_twincome(item='27', start_date='20120101', end_date='20221010')\n",
    "df"
   ],
   "metadata": {
    "collapsed": false,
    "ExecuteTime": {
     "end_time": "2023-06-05T02:03:47.181661900Z",
     "start_time": "2023-06-05T02:03:47.012850700Z"
    }
   }
  },
  {
   "cell_type": "code",
   "execution_count": null,
   "outputs": [],
   "source": [],
   "metadata": {
    "collapsed": false
   }
  }
 ],
 "metadata": {
  "kernelspec": {
   "display_name": "Python 3",
   "language": "python",
   "name": "python3"
  },
  "language_info": {
   "codemirror_mode": {
    "name": "ipython",
    "version": 2
   },
   "file_extension": ".py",
   "mimetype": "text/x-python",
   "name": "python",
   "nbconvert_exporter": "python",
   "pygments_lexer": "ipython2",
   "version": "2.7.6"
  }
 },
 "nbformat": 4,
 "nbformat_minor": 0
}
