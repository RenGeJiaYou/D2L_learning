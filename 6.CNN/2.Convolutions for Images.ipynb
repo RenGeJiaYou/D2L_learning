{
 "cells": [
  {
   "cell_type": "code",
   "execution_count": 17,
   "metadata": {
    "collapsed": true,
    "ExecuteTime": {
     "end_time": "2023-05-12T14:47:06.658706Z",
     "start_time": "2023-05-12T14:47:06.474703500Z"
    }
   },
   "outputs": [],
   "source": [
    "# 卷积神经网络的设计是用于探索图像数据，本节我们将以图像为例。\n",
    "import torch\n",
    "from torch import nn\n",
    "from d2l import torch as d2l"
   ]
  },
  {
   "cell_type": "markdown",
   "source": [
    "## 1.卷积操作\n",
    "输入源图像 X 和卷积核 K，输出张量 Y"
   ],
   "metadata": {
    "collapsed": false
   }
  },
  {
   "cell_type": "code",
   "execution_count": 18,
   "outputs": [],
   "source": [
    "def corr2d(X, K):\n",
    "    h, w = K.shape\n",
    "    Y = torch.zeros((X.shape[0] - h + 1, X.shape[1] - w + 1))\n",
    "    for i in range(Y.shape[0]):\n",
    "        for j in range(Y.shape[1]):\n",
    "            Y[i, j] = (X[i:i + h, j:j + w] * K).sum()\n",
    "\n",
    "    return Y"
   ],
   "metadata": {
    "collapsed": false,
    "ExecuteTime": {
     "end_time": "2023-05-12T14:47:06.706707300Z",
     "start_time": "2023-05-12T14:47:06.490698700Z"
    }
   }
  },
  {
   "cell_type": "markdown",
   "source": [
    "## 2. 卷积层\n",
    "卷积层对*输入*和*卷积核权重*进行互相关运算，并在添加*标量偏置*之后产生输出。\n",
    "两个主要参数是 `卷积核权重` 和 `标量偏置` 。\n",
    "同样，需要在训练模型前对其**随机初始化**。"
   ],
   "metadata": {
    "collapsed": false
   }
  },
  {
   "cell_type": "code",
   "execution_count": 19,
   "outputs": [],
   "source": [
    "# 卷积层在代码中表现为一个 nn.Module 的子类\n",
    "class Conv2D(nn.Module):\n",
    "    def __init__(self, kernel_size):\n",
    "        super.__init__()\n",
    "        self.weight = nn.Parameter(torch.rand(kernel_size))\n",
    "        self.bias = nn.Parameter(torch.zeros(1))\n",
    "\n",
    "    def forward(self, x):\n",
    "        return corr2d(x, self.weight) + self.bias\n"
   ],
   "metadata": {
    "collapsed": false,
    "ExecuteTime": {
     "end_time": "2023-05-12T14:47:06.714709600Z",
     "start_time": "2023-05-12T14:47:06.506704500Z"
    }
   }
  },
  {
   "cell_type": "markdown",
   "source": [
    "## 3. 边缘检测\n",
    "简单应用：通过找到像素变化的位置，来检测图像中不同颜色的边缘。\n",
    "构造一个 $6*8$ 像素的黑白图像。中间四列为黑色(0)，其余像素为白色(1)。"
   ],
   "metadata": {
    "collapsed": false
   }
  },
  {
   "cell_type": "code",
   "execution_count": 20,
   "outputs": [
    {
     "data": {
      "text/plain": "tensor([[1., 1., 0., 0., 0., 0., 1., 1.],\n        [1., 1., 0., 0., 0., 0., 1., 1.],\n        [1., 1., 0., 0., 0., 0., 1., 1.],\n        [1., 1., 0., 0., 0., 0., 1., 1.],\n        [1., 1., 0., 0., 0., 0., 1., 1.],\n        [1., 1., 0., 0., 0., 0., 1., 1.]])"
     },
     "execution_count": 20,
     "metadata": {},
     "output_type": "execute_result"
    }
   ],
   "source": [
    "X = torch.ones((6, 8))\n",
    "X[:, 2:6] = 0\n",
    "X"
   ],
   "metadata": {
    "collapsed": false,
    "ExecuteTime": {
     "end_time": "2023-05-12T14:47:06.714709600Z",
     "start_time": "2023-05-12T14:47:06.522701700Z"
    }
   }
  },
  {
   "cell_type": "markdown",
   "source": [
    "构造一个高度为 1 、宽度为 2 的卷积核 K。\n",
    "当进行互相关运算时，如果水平相邻的两元素相同，则输出为零，否则输出为非零。"
   ],
   "metadata": {
    "collapsed": false
   }
  },
  {
   "cell_type": "code",
   "execution_count": 21,
   "outputs": [
    {
     "data": {
      "text/plain": "tensor([[ 1., -1.]])"
     },
     "execution_count": 21,
     "metadata": {},
     "output_type": "execute_result"
    }
   ],
   "source": [
    "K = torch.tensor([[1.0, -1.0]])\n",
    "K"
   ],
   "metadata": {
    "collapsed": false,
    "ExecuteTime": {
     "end_time": "2023-05-12T14:47:06.714709600Z",
     "start_time": "2023-05-12T14:47:06.546705200Z"
    }
   }
  },
  {
   "cell_type": "markdown",
   "source": [
    "开始卷积"
   ],
   "metadata": {
    "collapsed": false
   }
  },
  {
   "cell_type": "code",
   "execution_count": 22,
   "outputs": [
    {
     "data": {
      "text/plain": "tensor([[ 0.,  1.,  0.,  0.,  0., -1.,  0.],\n        [ 0.,  1.,  0.,  0.,  0., -1.,  0.],\n        [ 0.,  1.,  0.,  0.,  0., -1.,  0.],\n        [ 0.,  1.,  0.,  0.,  0., -1.,  0.],\n        [ 0.,  1.,  0.,  0.,  0., -1.,  0.],\n        [ 0.,  1.,  0.,  0.,  0., -1.,  0.]])"
     },
     "execution_count": 22,
     "metadata": {},
     "output_type": "execute_result"
    }
   ],
   "source": [
    "Y = corr2d(X, K)\n",
    "Y"
   ],
   "metadata": {
    "collapsed": false,
    "ExecuteTime": {
     "end_time": "2023-05-12T14:47:06.714709600Z",
     "start_time": "2023-05-12T14:47:06.562700500Z"
    }
   }
  },
  {
   "cell_type": "markdown",
   "source": [
    "由输出可知（列[1] 为 1;列[-2]为 -1），该卷积核能检测出**竖向**的边缘"
   ],
   "metadata": {
    "collapsed": false
   }
  },
  {
   "cell_type": "markdown",
   "source": [
    "尝试将 X 转置，并再次卷积："
   ],
   "metadata": {
    "collapsed": false
   }
  },
  {
   "cell_type": "code",
   "execution_count": 23,
   "outputs": [],
   "source": [
    "# Y = corr2d(X.T, K)\n",
    "# Y"
   ],
   "metadata": {
    "collapsed": false,
    "ExecuteTime": {
     "end_time": "2023-05-12T14:47:06.722700Z",
     "start_time": "2023-05-12T14:47:06.578701200Z"
    }
   }
  },
  {
   "cell_type": "markdown",
   "source": [
    "转置消失，说明横向边缘无法检测"
   ],
   "metadata": {
    "collapsed": false
   }
  },
  {
   "cell_type": "markdown",
   "source": [
    "## 4. 卷积核\n",
    "矛盾在于，当任务要求变得复杂，不可能再*手动*设置卷积核权重和偏置。\n",
    "现在需要解决的问题是：已知 X 和 Y, 能否生成 K 和 bias ?\n",
    "\n",
    "先构造一个卷积层，并将其卷积核初始化为随机张量。\n",
    "接下来，在每次迭代中，我们比较 Y 与卷积层输出的平方误差，\n",
    "然后计算梯度来更新卷积核。"
   ],
   "metadata": {
    "collapsed": false
   }
  },
  {
   "cell_type": "code",
   "execution_count": 24,
   "outputs": [
    {
     "name": "stdout",
     "output_type": "stream",
     "text": [
      "epoch 2, loss 23.355\n",
      "epoch 4, loss 8.351\n",
      "epoch 6, loss 3.217\n",
      "epoch 8, loss 1.283\n",
      "epoch 10, loss 0.520\n"
     ]
    }
   ],
   "source": [
    "# 简单起见，暂不考虑 bias\n",
    "# 1 个输入通道，1 个输出通道，形状为（1，2）的卷积核\n",
    "conv2d = nn.Conv2d(1, 1, kernel_size=(1, 2), bias=False)\n",
    "\n",
    "# 这个二维卷积层使用四维输入和输出格式（批量大小、通道、高度、宽度），\n",
    "# 其中批量大小和通道数都为 1\n",
    "X = X.reshape((1, 1, 6, 8))\n",
    "Y = Y.reshape((1, 1, 6, 7))\n",
    "lr = 3e-2  # 学习率\n",
    "\n",
    "for i in range(10):\n",
    "    Y_hat = conv2d(X)\n",
    "    loss = (Y_hat - Y) ** 2\n",
    "    conv2d.zero_grad()\n",
    "    loss.sum().backward()\n",
    "\n",
    "    # 迭代卷积核\n",
    "    conv2d.weight.data[:] -=lr*conv2d.weight.grad\n",
    "\n",
    "    if (i + 1) % 2 == 0:\n",
    "        print(f'epoch {i+1}, loss {loss.sum():.3f}')"
   ],
   "metadata": {
    "collapsed": false,
    "ExecuteTime": {
     "end_time": "2023-05-12T14:47:11.751561300Z",
     "start_time": "2023-05-12T14:47:11.711555400Z"
    }
   }
  },
  {
   "cell_type": "code",
   "execution_count": 26,
   "outputs": [
    {
     "data": {
      "text/plain": "tensor([[ 0.9142, -1.0625]])"
     },
     "execution_count": 26,
     "metadata": {},
     "output_type": "execute_result"
    }
   ],
   "source": [
    "# 查看此时的卷积核权重\n",
    "conv2d.weight.data.reshape(1,2)"
   ],
   "metadata": {
    "collapsed": false,
    "ExecuteTime": {
     "end_time": "2023-05-12T14:52:34.980775500Z",
     "start_time": "2023-05-12T14:52:34.964778200Z"
    }
   }
  },
  {
   "cell_type": "markdown",
   "source": [
    "## 5. 互相关和卷积"
   ],
   "metadata": {
    "collapsed": false
   }
  },
  {
   "cell_type": "markdown",
   "source": [
    "## 6. 特征映射和感受野\n",
    "\n",
    "感受野是 **输出 Tensor** 的每个元素的属性。\n",
    "一个输出层元素的感受野是 **输入 Tensor** 上被当前位置的卷积核 **覆盖部分** 元素。"
   ],
   "metadata": {
    "collapsed": false
   }
  },
  {
   "cell_type": "markdown",
   "source": [
    "## 7.练习"
   ],
   "metadata": {
    "collapsed": false
   }
  },
  {
   "cell_type": "code",
   "execution_count": 27,
   "outputs": [
    {
     "data": {
      "text/plain": "tensor([[1., 0., 0., 0., 0., 0., 0., 0.],\n        [0., 1., 0., 0., 0., 0., 0., 0.],\n        [0., 0., 1., 0., 0., 0., 0., 0.],\n        [0., 0., 0., 1., 0., 0., 0., 0.],\n        [0., 0., 0., 0., 1., 0., 0., 0.],\n        [0., 0., 0., 0., 0., 1., 0., 0.],\n        [0., 0., 0., 0., 0., 0., 1., 0.],\n        [0., 0., 0., 0., 0., 0., 0., 1.]])"
     },
     "execution_count": 27,
     "metadata": {},
     "output_type": "execute_result"
    }
   ],
   "source": [
    "M =  torch.eye(8)\n",
    "M"
   ],
   "metadata": {
    "collapsed": false,
    "ExecuteTime": {
     "end_time": "2023-05-12T15:14:06.260705400Z",
     "start_time": "2023-05-12T15:14:06.212701Z"
    }
   }
  },
  {
   "cell_type": "code",
   "execution_count": null,
   "outputs": [],
   "source": [],
   "metadata": {
    "collapsed": false
   }
  }
 ],
 "metadata": {
  "kernelspec": {
   "display_name": "Python 3",
   "language": "python",
   "name": "python3"
  },
  "language_info": {
   "codemirror_mode": {
    "name": "ipython",
    "version": 2
   },
   "file_extension": ".py",
   "mimetype": "text/x-python",
   "name": "python",
   "nbconvert_exporter": "python",
   "pygments_lexer": "ipython2",
   "version": "2.7.6"
  }
 },
 "nbformat": 4,
 "nbformat_minor": 0
}
