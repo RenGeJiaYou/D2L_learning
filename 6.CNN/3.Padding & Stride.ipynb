{
 "cells": [
  {
   "cell_type": "code",
   "execution_count": 1,
   "outputs": [],
   "source": [
    "# 卷积 & 步长\n",
    "import torch\n",
    "from torch import nn"
   ],
   "metadata": {
    "collapsed": false,
    "ExecuteTime": {
     "end_time": "2023-05-13T01:33:01.311762500Z",
     "start_time": "2023-05-13T01:32:57.918403Z"
    }
   }
  },
  {
   "cell_type": "markdown",
   "source": [
    "## 1. 填充"
   ],
   "metadata": {
    "collapsed": false
   }
  },
  {
   "cell_type": "code",
   "execution_count": null,
   "outputs": [],
   "source": [
    "# 创建层时，指定 padding\n",
    "net_1 = nn.Conv2d(1, 1, kernel_size=3, padding=1)\n",
    "\n",
    "# 上下和左右的 padding 可以分别指定\n",
    "net_2 = nn.Conv2d(1,1,kernel_size=3,padding=(2,1))"
   ],
   "metadata": {
    "collapsed": false
   }
  },
  {
   "cell_type": "markdown",
   "source": [
    "## 2. 步幅\n",
    "为了高效计算或是缩减采样次数，卷积窗口可以跳过中间位置，每次滑动多个元素"
   ],
   "metadata": {
    "collapsed": false
   }
  },
  {
   "cell_type": "code",
   "execution_count": null,
   "outputs": [],
   "source": [
    "net_3 = nn.Conv2d(1, 1, kernel_size=3, padding=1, stride=2)\n",
    "\n",
    "net_4 = nn.Conv2d(1, 1, kernel_size=(3, 5), padding=(0, 1), stride=(3, 4))"
   ],
   "metadata": {
    "collapsed": false
   }
  },
  {
   "cell_type": "markdown",
   "source": [
    "> 在实践中，我们很少使用不一致的步幅或填充"
   ],
   "metadata": {
    "collapsed": false
   }
  },
  {
   "cell_type": "markdown",
   "source": [],
   "metadata": {
    "collapsed": false
   }
  }
 ],
 "metadata": {
  "kernelspec": {
   "display_name": "Python 3",
   "language": "python",
   "name": "python3"
  },
  "language_info": {
   "codemirror_mode": {
    "name": "ipython",
    "version": 2
   },
   "file_extension": ".py",
   "mimetype": "text/x-python",
   "name": "python",
   "nbconvert_exporter": "python",
   "pygments_lexer": "ipython2",
   "version": "2.7.6"
  }
 },
 "nbformat": 4,
 "nbformat_minor": 0
}
