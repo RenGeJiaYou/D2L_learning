{
 "cells": [
  {
   "cell_type": "code",
   "execution_count": 10,
   "metadata": {
    "collapsed": true,
    "ExecuteTime": {
     "end_time": "2023-05-13T02:40:03.675789500Z",
     "start_time": "2023-05-13T02:40:03.538781600Z"
    }
   },
   "outputs": [],
   "source": [
    "# 多输入多输出通道\n",
    "import torch\n",
    "from d2l import torch as d2l"
   ]
  },
  {
   "cell_type": "markdown",
   "source": [
    "实践中，RGB 图像是 $3 * h * w$ 的三维张量,值为 $3$ 的那一个维度称为**通道**。"
   ],
   "metadata": {
    "collapsed": false
   }
  },
  {
   "cell_type": "markdown",
   "source": [
    "## 1. 多输入通道\n",
    "输入数据有 $c_i$ 个通道，就该有 $c_i$ 个卷积核。\n",
    "第 $i$ 个通道上的对应 input 和 kernel 做卷积运算,得到结果矩阵 $Y_i$。\n",
    "单输出：$Z =  \\sum Y_i + b$\n",
    "> 输入数据有 $c_i$ 个通道，$K$ 的维度就应该为 $c_i * k_h * k_w$. 表示 $c_i$ 个高和宽为 $k_h$ 和 $k_w$ 的 kernel 。"
   ],
   "metadata": {
    "collapsed": false
   }
  },
  {
   "cell_type": "code",
   "execution_count": 11,
   "outputs": [],
   "source": [
    "# 对每个通道执行互相关操作，然后将结果相加。\n",
    "def corr2d_multi_in(X, K):\n",
    "    # 先遍历“X”和“K”的第0个维度（通道维度），再把它们加在一起\n",
    "    return sum(d2l.corr2d(x, k) for x, k in zip(X, K))"
   ],
   "metadata": {
    "collapsed": false,
    "ExecuteTime": {
     "end_time": "2023-05-13T02:40:08.198743800Z",
     "start_time": "2023-05-13T02:40:08.090751700Z"
    }
   }
  },
  {
   "cell_type": "code",
   "execution_count": 12,
   "outputs": [
    {
     "data": {
      "text/plain": "(torch.Size([2, 3, 3]),\n torch.Size([2, 2, 2]),\n tensor([[ 56.,  72.],\n         [104., 120.]]))"
     },
     "execution_count": 12,
     "metadata": {},
     "output_type": "execute_result"
    }
   ],
   "source": [
    "X = torch.tensor([[[0.0, 1.0, 2.0], [3.0, 4.0, 5.0], [6.0, 7.0, 8.0]],\n",
    "               [[1.0, 2.0, 3.0], [4.0, 5.0, 6.0], [7.0, 8.0, 9.0]]])\n",
    "K = torch.tensor([[[0.0, 1.0], [2.0, 3.0]], [[1.0, 2.0], [3.0, 4.0]]])\n",
    "\n",
    "X.shape,K.shape,corr2d_multi_in(X, K)"
   ],
   "metadata": {
    "collapsed": false,
    "ExecuteTime": {
     "end_time": "2023-05-13T02:40:10.043428Z",
     "start_time": "2023-05-13T02:40:09.908429900Z"
    }
   }
  },
  {
   "cell_type": "markdown",
   "source": [
    "## 2. 多输出通道 $c_o$\n",
    "在上一小节，多个通道的卷积输出用`sum()`合成为一个单输出。\n",
    "在最流行的神经网络架构中，随着神经网络层数的加深，我们常会增加输出通道的维数。\n",
    "对每个输出通道，都应该有一个 $c_i * k_h * k_w$ 的卷积核。\n",
    "对于有 $c_o$ 个输出通道的卷积网络，卷积核尺寸应当为 $c_o * c_i * k_h * k_w$"
   ],
   "metadata": {
    "collapsed": false
   }
  },
  {
   "cell_type": "code",
   "execution_count": 13,
   "outputs": [
    {
     "data": {
      "text/plain": "torch.Size([3, 2, 2, 2])"
     },
     "execution_count": 13,
     "metadata": {},
     "output_type": "execute_result"
    }
   ],
   "source": [
    "# 生成 3 输出通道的卷积核\n",
    "K = torch.stack((K, K + 1, K + 2), 0)\n",
    "K.shape"
   ],
   "metadata": {
    "collapsed": false,
    "ExecuteTime": {
     "end_time": "2023-05-13T02:40:13.776325Z",
     "start_time": "2023-05-13T02:40:13.633327400Z"
    }
   }
  },
  {
   "cell_type": "code",
   "execution_count": 14,
   "outputs": [],
   "source": [
    "def corr2d_multi_in_out(X, K):\n",
    "    # 迭代“K”的第0个维度，每次都对输入“X”执行互相关运算。\n",
    "    # 最后将所有结果都叠加在一起\n",
    "    return torch.stack([corr2d_multi_in(X, k) for k in K], 0)"
   ],
   "metadata": {
    "collapsed": false,
    "ExecuteTime": {
     "end_time": "2023-05-13T02:40:30.470089400Z",
     "start_time": "2023-05-13T02:40:30.358095400Z"
    }
   }
  },
  {
   "cell_type": "code",
   "execution_count": 15,
   "outputs": [
    {
     "data": {
      "text/plain": "(tensor([[[ 56.,  72.],\n          [104., 120.]],\n \n         [[ 76., 100.],\n          [148., 172.]],\n \n         [[ 96., 128.],\n          [192., 224.]]]),\n torch.Size([3, 2, 2]))"
     },
     "execution_count": 15,
     "metadata": {},
     "output_type": "execute_result"
    }
   ],
   "source": [
    "corr2d_multi_in_out(X, K),corr2d_multi_in_out(X, K).shape"
   ],
   "metadata": {
    "collapsed": false,
    "ExecuteTime": {
     "end_time": "2023-05-13T02:40:33.304777700Z",
     "start_time": "2023-05-13T02:40:33.155769100Z"
    }
   }
  },
  {
   "cell_type": "markdown",
   "source": [
    "## 3. $1*1$ 卷积核\n",
    "$1*1$ 卷积核的唯一作用是控制输出的**通道数**。\n",
    "我们可以将 $1*1$ 卷积层看作在每个像素位置应用的全连接层。\n",
    "举例：\n",
    "如果输入数据有 3 个通道，同时希望输出数据有 2 个通道，可以设置 $1*1$ 卷积核为：\n",
    "(2,3,1,1)"
   ],
   "metadata": {
    "collapsed": false
   }
  },
  {
   "cell_type": "code",
   "execution_count": 16,
   "outputs": [],
   "source": [
    "def corr2d_multi_in_out_1x1(X, K):\n",
    "    c_i, h, w = X.shape\n",
    "    c_o = K.shape[0]\n",
    "    X = X.reshape((c_i, h * w))\n",
    "    K = K.reshape((c_o, c_i))\n",
    "    # 全连接层中的矩阵乘法\n",
    "    Y = torch.matmul(K, X)\n",
    "    return Y.reshape((c_o, h, w))"
   ],
   "metadata": {
    "collapsed": false,
    "ExecuteTime": {
     "end_time": "2023-05-13T03:41:07.606585500Z",
     "start_time": "2023-05-13T03:41:07.545588Z"
    }
   }
  },
  {
   "cell_type": "code",
   "execution_count": 17,
   "outputs": [],
   "source": [
    "X = torch.normal(0, 1, (3, 3, 3))\n",
    "K = torch.normal(0, 1, (2, 3, 1, 1))\n",
    "\n",
    "# 两者是等价的\n",
    "Y1 = corr2d_multi_in_out_1x1(X, K)\n",
    "Y2 = corr2d_multi_in_out(X, K)\n",
    "assert float(torch.abs(Y1 - Y2).sum()) < 1e-6"
   ],
   "metadata": {
    "collapsed": false,
    "ExecuteTime": {
     "end_time": "2023-05-13T03:41:10.562596Z",
     "start_time": "2023-05-13T03:41:10.410596200Z"
    }
   }
  },
  {
   "cell_type": "code",
   "execution_count": null,
   "outputs": [],
   "source": [],
   "metadata": {
    "collapsed": false
   }
  }
 ],
 "metadata": {
  "kernelspec": {
   "display_name": "Python 3",
   "language": "python",
   "name": "python3"
  },
  "language_info": {
   "codemirror_mode": {
    "name": "ipython",
    "version": 2
   },
   "file_extension": ".py",
   "mimetype": "text/x-python",
   "name": "python",
   "nbconvert_exporter": "python",
   "pygments_lexer": "ipython2",
   "version": "2.7.6"
  }
 },
 "nbformat": 4,
 "nbformat_minor": 0
}
